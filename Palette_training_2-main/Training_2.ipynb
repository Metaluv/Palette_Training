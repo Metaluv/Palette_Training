{
  "cells": [
    {
      "cell_type": "markdown",
      "source": [
        "# Training 2"
      ],
      "metadata": {
        "id": "W4nWvAwnOCQe"
      }
    },
    {
      "cell_type": "markdown",
      "source": [
        "## Mathematical Operations"
      ],
      "metadata": {
        "id": "YSH9PzxPOW5p"
      }
    },
    {
      "cell_type": "code",
      "source": [
        "# Addition\n",
        "16 + 5"
      ],
      "metadata": {
        "colab": {
          "base_uri": "https://localhost:8080/"
        },
        "id": "6JIBSjz1N4Ds",
        "outputId": "97aec888-07c4-4508-dee6-16da38229f37"
      },
      "execution_count": null,
      "outputs": [
        {
          "output_type": "execute_result",
          "data": {
            "text/plain": [
              "21"
            ]
          },
          "metadata": {},
          "execution_count": 29
        }
      ]
    },
    {
      "cell_type": "code",
      "source": [
        "# Subtraction\n",
        "16 - 5"
      ],
      "metadata": {
        "colab": {
          "base_uri": "https://localhost:8080/"
        },
        "id": "_iMn7_uGN4Ha",
        "outputId": "81cf80d3-2939-4caa-a529-6128f53b5ab5"
      },
      "execution_count": null,
      "outputs": [
        {
          "output_type": "execute_result",
          "data": {
            "text/plain": [
              "11"
            ]
          },
          "metadata": {},
          "execution_count": 30
        }
      ]
    },
    {
      "cell_type": "code",
      "source": [
        "# Multipilication\n",
        "16 * 5"
      ],
      "metadata": {
        "colab": {
          "base_uri": "https://localhost:8080/"
        },
        "id": "Sveuxh46N4XY",
        "outputId": "ddcba059-f78b-4755-c0fe-7b14edf33c66"
      },
      "execution_count": null,
      "outputs": [
        {
          "output_type": "execute_result",
          "data": {
            "text/plain": [
              "80"
            ]
          },
          "metadata": {},
          "execution_count": 31
        }
      ]
    },
    {
      "cell_type": "code",
      "source": [
        "# Division\n",
        "16 / 5 "
      ],
      "metadata": {
        "colab": {
          "base_uri": "https://localhost:8080/"
        },
        "id": "PbB_JhcMN4bG",
        "outputId": "12cb24dd-996e-41d4-e1e4-ea6e036a6119"
      },
      "execution_count": null,
      "outputs": [
        {
          "output_type": "execute_result",
          "data": {
            "text/plain": [
              "3.2"
            ]
          },
          "metadata": {},
          "execution_count": 32
        }
      ]
    },
    {
      "cell_type": "code",
      "source": [
        "# Remainder\n",
        "16 % 5"
      ],
      "metadata": {
        "colab": {
          "base_uri": "https://localhost:8080/"
        },
        "id": "MG1S11QdN4eU",
        "outputId": "7a7198dc-ecba-43a4-dfb7-fc2bddda469b"
      },
      "execution_count": null,
      "outputs": [
        {
          "output_type": "execute_result",
          "data": {
            "text/plain": [
              "1"
            ]
          },
          "metadata": {},
          "execution_count": 27
        }
      ]
    },
    {
      "cell_type": "code",
      "source": [
        "# Quotient\n",
        "16 // 5"
      ],
      "metadata": {
        "colab": {
          "base_uri": "https://localhost:8080/"
        },
        "id": "fEHZ7GNYPzCz",
        "outputId": "d85cf1c7-3646-4e5d-b496-353e7dd578ca"
      },
      "execution_count": null,
      "outputs": [
        {
          "output_type": "execute_result",
          "data": {
            "text/plain": [
              "3"
            ]
          },
          "metadata": {},
          "execution_count": 28
        }
      ]
    },
    {
      "cell_type": "code",
      "source": [
        "# Equal vs Assign\n",
        "# Equal is == (two eqaul signs), Assign is = (One equal sign)"
      ],
      "metadata": {
        "id": "-UMuSPwAT-rv"
      },
      "execution_count": null,
      "outputs": []
    },
    {
      "cell_type": "markdown",
      "source": [
        "## For Loops"
      ],
      "metadata": {
        "id": "h48i94rTPvP4"
      }
    },
    {
      "cell_type": "code",
      "execution_count": null,
      "metadata": {
        "collapsed": true,
        "id": "Lf2ndgGkKTzw"
      },
      "outputs": [],
      "source": [
        "crops = ['canola', 'barley', 'wheat']"
      ]
    },
    {
      "cell_type": "code",
      "execution_count": null,
      "metadata": {
        "colab": {
          "base_uri": "https://localhost:8080/"
        },
        "id": "OTtlm9fcKTz0",
        "outputId": "2b88e8ac-e41f-48bb-c9a3-0337227b665a"
      },
      "outputs": [
        {
          "output_type": "stream",
          "name": "stdout",
          "text": [
            "canola\n",
            "barley\n",
            "wheat\n"
          ]
        }
      ],
      "source": [
        "# A for loop is used for iterating over a sequence.\n",
        "for crop in crops:\n",
        "    print(crop)"
      ]
    },
    {
      "cell_type": "code",
      "source": [
        "yields = [34, 40, 45]\n",
        "\n",
        "for y in yields:\n",
        "    print(y)"
      ],
      "metadata": {
        "colab": {
          "base_uri": "https://localhost:8080/"
        },
        "id": "ob9fmlpmQ2r4",
        "outputId": "1338a4ef-a641-4441-ba12-eae4d134d33f"
      },
      "execution_count": null,
      "outputs": [
        {
          "output_type": "stream",
          "name": "stdout",
          "text": [
            "34\n",
            "40\n",
            "45\n"
          ]
        }
      ]
    },
    {
      "cell_type": "code",
      "execution_count": null,
      "metadata": {
        "colab": {
          "base_uri": "https://localhost:8080/"
        },
        "id": "OkosLo39KTz1",
        "outputId": "c66ae9a9-2a50-4a27-9628-01127486ee12"
      },
      "outputs": [
        {
          "output_type": "stream",
          "name": "stdout",
          "text": [
            "119\n"
          ]
        }
      ],
      "source": [
        "# Finding sum of yields.\n",
        "yields = [34, 40, 45]\n",
        "total_1 = 0\n",
        "for y in yields:\n",
        "    total_1 = total_1 + y\n",
        "print(total_1)"
      ]
    },
    {
      "cell_type": "code",
      "source": [
        "# Finding Sum via sum()\n",
        "sum(yields)"
      ],
      "metadata": {
        "colab": {
          "base_uri": "https://localhost:8080/"
        },
        "id": "X60mWgw_RXT6",
        "outputId": "5e6b2590-774a-4de7-a6f1-19e0b2414248"
      },
      "execution_count": null,
      "outputs": [
        {
          "output_type": "execute_result",
          "data": {
            "text/plain": [
              "119"
            ]
          },
          "metadata": {},
          "execution_count": 56
        }
      ]
    },
    {
      "cell_type": "code",
      "source": [
        "# range(n) finctions gives us from 1 to n-1\n",
        "print('Result of print(range(10)): ', range(10))"
      ],
      "metadata": {
        "colab": {
          "base_uri": "https://localhost:8080/"
        },
        "id": "kYCkj5H2L7zv",
        "outputId": "f6381c9b-463d-4ca3-9c95-e5c2b1949275"
      },
      "execution_count": null,
      "outputs": [
        {
          "output_type": "stream",
          "name": "stdout",
          "text": [
            "Result of print(range(10)):  range(0, 10)\n"
          ]
        }
      ]
    },
    {
      "cell_type": "code",
      "source": [
        "# list() returns a list []\n",
        "print('Result of print list(range(10)): ', list(range(10)))"
      ],
      "metadata": {
        "colab": {
          "base_uri": "https://localhost:8080/"
        },
        "id": "sC-nQ5iHM_7U",
        "outputId": "a19b2500-f1ca-4ebf-fda1-4fe1556e94dd"
      },
      "execution_count": null,
      "outputs": [
        {
          "output_type": "stream",
          "name": "stdout",
          "text": [
            "Result of print list(range(10)):  [0, 1, 2, 3, 4, 5, 6, 7, 8, 9]\n"
          ]
        }
      ]
    },
    {
      "cell_type": "code",
      "source": [
        "# What us += sign in Python? \n",
        "# This operator is often referred to as the addition assignment operator.\n",
        "a = 16\n",
        "a+=5\n",
        "print(a)"
      ],
      "metadata": {
        "colab": {
          "base_uri": "https://localhost:8080/"
        },
        "id": "LtODRGQxSFQ5",
        "outputId": "b6bc924c-d9aa-4f3f-8271-a1e776906711"
      },
      "execution_count": null,
      "outputs": [
        {
          "output_type": "stream",
          "name": "stdout",
          "text": [
            "21\n"
          ]
        }
      ]
    },
    {
      "cell_type": "code",
      "execution_count": null,
      "metadata": {
        "colab": {
          "base_uri": "https://localhost:8080/"
        },
        "id": "iF92CzvZKTz2",
        "outputId": "cb63b0ed-524e-4e0d-ac7f-149573b1e063"
      },
      "outputs": [
        {
          "output_type": "stream",
          "name": "stdout",
          "text": [
            "5050\n"
          ]
        }
      ],
      "source": [
        "# Finding sum another way\n",
        "total_2 = 0\n",
        "for i in range(1, 101):\n",
        "    total_2 += i\n",
        "print(total_2)"
      ]
    },
    {
      "cell_type": "code",
      "execution_count": null,
      "metadata": {
        "colab": {
          "base_uri": "https://localhost:8080/"
        },
        "id": "mLnBB93lKTz4",
        "outputId": "488b32bf-8539-4706-edea-c4df253e04a5"
      },
      "outputs": [
        {
          "output_type": "stream",
          "name": "stdout",
          "text": [
            "15\n"
          ]
        }
      ],
      "source": [
        "# For Loops with coditions\n",
        "total_3 = 0\n",
        "for i in range(1, 15):\n",
        "    if i % 5 == 0:\n",
        "        total_3 += i\n",
        "print(total_3)"
      ]
    },
    {
      "cell_type": "code",
      "source": [
        "# Building a  function\n",
        "def sum_of_divisors():\n",
        "    total_3 = 0\n",
        "    for i in range(1, 15):\n",
        "        if i % 5 == 0:\n",
        "            total_3 += i\n",
        "    print(total_3) "
      ],
      "metadata": {
        "id": "QtHUzBTKUz00"
      },
      "execution_count": null,
      "outputs": []
    },
    {
      "cell_type": "code",
      "source": [
        "sum_of_divisors()"
      ],
      "metadata": {
        "colab": {
          "base_uri": "https://localhost:8080/"
        },
        "id": "8d5RitgbVZq7",
        "outputId": "52458d19-0291-4892-b99a-58e13fd802b4"
      },
      "execution_count": null,
      "outputs": [
        {
          "output_type": "stream",
          "name": "stdout",
          "text": [
            "15\n"
          ]
        }
      ]
    },
    {
      "cell_type": "code",
      "source": [
        "numbers = [5, 3, 1, -2, -3, -5]\n",
        "total_4 = 0\n",
        "for i in numbers:\n",
        "    if i <= 0:\n",
        "        break\n",
        "    total_4 += i\n",
        "print(total_4)"
      ],
      "metadata": {
        "colab": {
          "base_uri": "https://localhost:8080/"
        },
        "id": "Ash-nTMEYlwJ",
        "outputId": "6aa69986-ccf5-4ef8-d023-88296f5996a5"
      },
      "execution_count": null,
      "outputs": [
        {
          "output_type": "stream",
          "name": "stdout",
          "text": [
            "9\n"
          ]
        }
      ]
    },
    {
      "cell_type": "markdown",
      "source": [
        "## While Loops"
      ],
      "metadata": {
        "id": "83SBi52oXCXE"
      }
    },
    {
      "cell_type": "code",
      "source": [
        "total_5 = 0\n",
        "j = 1\n",
        "while j < 101:\n",
        "    total_5 += j\n",
        "    j += 1\n",
        "print(total_5)"
      ],
      "metadata": {
        "colab": {
          "base_uri": "https://localhost:8080/"
        },
        "id": "6dpVo2LMXGP2",
        "outputId": "c2ee91de-a9bb-4b44-9597-097cd591f54f"
      },
      "execution_count": null,
      "outputs": [
        {
          "output_type": "stream",
          "name": "stdout",
          "text": [
            "5050\n"
          ]
        }
      ]
    }
  ],
  "metadata": {
    "kernelspec": {
      "display_name": "Python 3",
      "language": "python",
      "name": "python3"
    },
    "language_info": {
      "codemirror_mode": {
        "name": "ipython",
        "version": 3
      },
      "file_extension": ".py",
      "mimetype": "text/x-python",
      "name": "python",
      "nbconvert_exporter": "python",
      "pygments_lexer": "ipython3",
      "version": "3.6.3"
    },
    "colab": {
      "provenance": []
    }
  },
  "nbformat": 4,
  "nbformat_minor": 0
}