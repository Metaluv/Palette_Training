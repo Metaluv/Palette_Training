{
  "cells": [
    {
      "cell_type": "markdown",
      "metadata": {
        "id": "pf5SXa1XeBkI"
      },
      "source": [
        "# Assignement 2\n"
      ]
    },
    {
      "cell_type": "markdown",
      "metadata": {
        "id": "txLDhiheeJtw"
      },
      "source": [
        "Please do not change, delete or edit any cells. Write your code in between designated lines.\n",
        "\n"
      ]
    },
    {
      "cell_type": "markdown",
      "metadata": {
        "id": "pVXIH2TLfXYF"
      },
      "source": [
        "## Question 1 (10 points)"
      ]
    },
    {
      "cell_type": "code",
      "execution_count": 2,
      "metadata": {
        "id": "VS-FTxUHfclH"
      },
      "outputs": [
        {
          "name": "stdout",
          "output_type": "stream",
          "text": [
            "A\n",
            "g\n",
            "r\n",
            "i\n",
            "c\n",
            "u\n",
            "l\n",
            "t\n",
            "u\n",
            "r\n",
            "e\n"
          ]
        }
      ],
      "source": [
        "# Can your print the letters of Agriculture by using for loops. Your output will look like this:\n",
        "# A\n",
        "# g\n",
        "# r\n",
        "# i\n",
        "# c\n",
        "# u\n",
        "# l\n",
        "# t\n",
        "# u\n",
        "# r\n",
        "# e\n",
        "\n",
        "## Your code here - down ##\n",
        "for letter in \"Agriculture\":\n",
        "    print(letter)\n",
        "## Your code here - up ##\n"
      ]
    },
    {
      "cell_type": "markdown",
      "metadata": {
        "id": "rTT_VIPMefpk"
      },
      "source": [
        "## Question 2 (40 Points)"
      ]
    },
    {
      "cell_type": "code",
      "execution_count": 1,
      "metadata": {
        "id": "dQp85EhveEWB"
      },
      "outputs": [
        {
          "name": "stdout",
          "output_type": "stream",
          "text": [
            "1275\n"
          ]
        }
      ],
      "source": [
        "# Find the sum of numbers from 1 to 50(including) by using for loops.\n",
        "\n",
        "## Your code here - down ##\n",
        "sum_of_numbers = 0\n",
        "for i in range(51):\n",
        "    sum_of_numbers += i\n",
        "print(sum_of_numbers)\n",
        "## Your code here - up ##"
      ]
    },
    {
      "cell_type": "markdown",
      "metadata": {
        "id": "gijHHMnjgZPy"
      },
      "source": [
        "## Question 3 (50 points)"
      ]
    },
    {
      "cell_type": "code",
      "execution_count": 9,
      "metadata": {
        "id": "IXBo2RM2gYPR"
      },
      "outputs": [
        {
          "name": "stdout",
          "output_type": "stream",
          "text": [
            "Sum of even numbers from 1 to 50: 650\n",
            "Sum of odd numbers from 1 to 50: 625\n",
            "The sum of even numbers and odd numbers are different.\n"
          ]
        }
      ],
      "source": [
        "# Now let's find sum of even and odd numbers from 1 to 50 (including). Are the results same?\n",
        "\n",
        "# Sum of even  numbers\n",
        "\n",
        "## Your code here - down ##\n",
        "even_sum = 0\n",
        "odd_sum = 0\n",
        "\n",
        "for i in range(1, 51):\n",
        "    if i % 2 == 0:\n",
        "        even_sum += i\n",
        "    else:\n",
        "        odd_sum += i\n",
        "\n",
        "print(\"Sum of even numbers from 1 to 50:\", even_sum)\n",
        "print(\"Sum of odd numbers from 1 to 50:\", odd_sum)\n",
        "\n",
        "if even_sum == odd_sum:\n",
        "    print(\"The sum of even numbers and odd numbers are the same.\")\n",
        "else:\n",
        "    print(\"The sum of even numbers and odd numbers are different.\")\n",
        "\n",
        "## Your code here - up ##"
      ]
    },
    {
      "cell_type": "code",
      "execution_count": 10,
      "metadata": {
        "id": "xQh-bx6ohCe-"
      },
      "outputs": [
        {
          "name": "stdout",
          "output_type": "stream",
          "text": [
            "Sum of odd numbers from 1 to 50: 625\n"
          ]
        }
      ],
      "source": [
        "# Sum of odd numbers\n",
        "\n",
        "## Your code here - down ##\n",
        "sum = 0\n",
        "\n",
        "for i in range(1, 51):\n",
        "    if i % 2 != 0:\n",
        "        sum += i\n",
        "\n",
        "print(\"Sum of odd numbers from 1 to 50:\", sum)\n",
        "\n",
        "## Your code here - up ##"
      ]
    },
    {
      "cell_type": "code",
      "execution_count": 12,
      "metadata": {
        "id": "OeIXVOYThLbA"
      },
      "outputs": [
        {
          "name": "stdout",
          "output_type": "stream",
          "text": [
            "Sum of even numbers from 1 to 50 : 650\n",
            "Sum of odd numbers from 1 to 50 : 625\n",
            "The sum of even numbers and odd numbers are different.\n",
            "The difference is 25 There is a difference between the sum of even numbers and the sum of odd numbers because even numbers can be divided by 2, while odd numbers cannot. This leads to the difference in the arithmetic series of even numbers and odd numbers, which results in a difference in their sums.\n"
          ]
        }
      ],
      "source": [
        "# In this cell explain the difference.\n",
        "\n",
        "def sum_of_even_and_odd_numbers(n):\n",
        "    even_sum = 0\n",
        "    odd_sum = 0\n",
        "\n",
        "    for i in range(1, n+1):\n",
        "        if i % 2 == 0:\n",
        "            even_sum += i\n",
        "        else:\n",
        "            odd_sum += i\n",
        "\n",
        "    print(\"Sum of even numbers from 1 to\", n, \":\", even_sum)\n",
        "    print(\"Sum of odd numbers from 1 to\", n, \":\", odd_sum)\n",
        "\n",
        "    if even_sum == odd_sum:\n",
        "        print(\"The sum of even numbers and odd numbers are the same.\")\n",
        "    else:\n",
        "        print(\"The sum of even numbers and odd numbers are different.\")\n",
        "        print(\"The difference is\", abs(even_sum - odd_sum), \"There is a difference between the sum of even numbers and the sum of odd numbers because even numbers can be divided by 2, while odd numbers cannot. This leads to the difference in the arithmetic series of even numbers and odd numbers, which results in a difference in their sums.\")\n",
        "\n",
        "sum_of_even_and_odd_numbers(50)\n"
      ]
    }
  ],
  "metadata": {
    "colab": {
      "provenance": []
    },
    "kernelspec": {
      "display_name": "base",
      "language": "python",
      "name": "python3"
    },
    "language_info": {
      "codemirror_mode": {
        "name": "ipython",
        "version": 3
      },
      "file_extension": ".py",
      "mimetype": "text/x-python",
      "name": "python",
      "nbconvert_exporter": "python",
      "pygments_lexer": "ipython3",
      "version": "3.9.13"
    },
    "vscode": {
      "interpreter": {
        "hash": "5e820f3ddc028a719ffe50e7d80dd01658ce1fe998d4f6f388d9b09d11d3d164"
      }
    }
  },
  "nbformat": 4,
  "nbformat_minor": 0
}
