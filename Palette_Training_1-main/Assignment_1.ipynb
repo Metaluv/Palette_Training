{
  "cells": [
    {
      "cell_type": "markdown",
      "metadata": {
        "id": "pkIv6ki2IEPX"
      },
      "source": [
        "# Assignement 1"
      ]
    },
    {
      "cell_type": "markdown",
      "metadata": {
        "id": "uPzTokrsLSZ9"
      },
      "source": [
        "Please **do not** change, delete or edit any cells. Write your code in between designated lines."
      ]
    },
    {
      "cell_type": "markdown",
      "metadata": {
        "id": "qZaWKGXcJFuj"
      },
      "source": [
        "#### Question 1 (5 points)"
      ]
    },
    {
      "cell_type": "code",
      "execution_count": 1,
      "metadata": {
        "id": "N-i0sQmcId4W"
      },
      "outputs": [
        {
          "name": "stdout",
          "output_type": "stream",
          "text": [
            "I will be a data scientist\n"
          ]
        }
      ],
      "source": [
        "# Here execute the following sentence - string \"I will be a data scientist\" by using print() function.\n",
        "\n",
        "## Your code here - down ##\n",
        "print(\"I will be a data scientist\")\n",
        "## Your code here - up ##"
      ]
    },
    {
      "cell_type": "markdown",
      "metadata": {
        "id": "XyeAqdgIJUUh"
      },
      "source": [
        "#### Question 2 (10 points)"
      ]
    },
    {
      "cell_type": "code",
      "execution_count": 2,
      "metadata": {
        "id": "y_BX1T8sJS9U"
      },
      "outputs": [
        {
          "name": "stdout",
          "output_type": "stream",
          "text": [
            "22\n"
          ]
        }
      ],
      "source": [
        "# Assign a and b variables respectively with 10 and 12, then print sum of these two variables.\n",
        "\n",
        "## Your code here - down ##\n",
        "a = 10\n",
        "b = 12\n",
        "print(a+b)\n",
        "## Your code here - up ##"
      ]
    },
    {
      "cell_type": "markdown",
      "metadata": {
        "id": "wWP7OJtQKTNT"
      },
      "source": [
        "Question 3 (20 Points)"
      ]
    },
    {
      "cell_type": "code",
      "execution_count": 10,
      "metadata": {
        "id": "FoCDtEylKPjY"
      },
      "outputs": [
        {
          "name": "stdout",
          "output_type": "stream",
          "text": [
            "a is less than b\n"
          ]
        }
      ],
      "source": [
        "# So we assigned a and b in the above cell. Let's write a code that print \n",
        "# \"a is greater b\" or \"a is less than b\" \n",
        "# by using Python's conditional statement (if - else). Please see training_1.\n",
        "\n",
        "## Your code here - down ##\n",
        "if a>b:\n",
        "    print(\"a is greater than b\")\n",
        "else:\n",
        "    print(\"a is less than b\")\n",
        "## Your code here - up ##"
      ]
    },
    {
      "cell_type": "markdown",
      "metadata": {
        "id": "H5VZWM1lMIF4"
      },
      "source": [
        "#### Question 4 (40 points)"
      ]
    },
    {
      "cell_type": "code",
      "execution_count": 6,
      "metadata": {
        "id": "dfPaZrkGMNRa"
      },
      "outputs": [
        {
          "name": "stdout",
          "output_type": "stream",
          "text": [
            "Yield was not good this year\n"
          ]
        },
        {
          "data": {
            "text/plain": [
              "40.0"
            ]
          },
          "execution_count": 6,
          "metadata": {},
          "output_type": "execute_result"
        }
      ],
      "source": [
        "# We built a function - canola_convertion () to convert pounds to bushel for canola. \n",
        "# We added if and else conditional statement to this function\n",
        "# to print \"Yield was better this year\" in case Canola yield per acre was greater than 45 (Please see Training_1 file). \n",
        "# But now, we will use wheat instead of canola. Please give an example of 2400 pounds and convert it to bushels and\n",
        "# print if the year was good or bad. \n",
        "\n",
        "## Your code here - down ##\n",
        "pounds = 2400\n",
        "def wheat_convertion(pounds):\n",
        "    bushels = pounds/60\n",
        "    if bushels > 45:\n",
        "        print(\"Yield was better this year\")\n",
        "    else:\n",
        "        print(\"Yield was not good this year\")\n",
        "    return bushels\n",
        "\n",
        "wheat_convertion(pounds)\n",
        "## Your code here - up ##"
      ]
    },
    {
      "cell_type": "markdown",
      "metadata": {
        "id": "XAECT2JJOlmA"
      },
      "source": [
        "#### Question 5 (25 points)"
      ]
    },
    {
      "cell_type": "code",
      "execution_count": 7,
      "metadata": {
        "id": "Hn9rzk2GOr6c"
      },
      "outputs": [],
      "source": [
        "# Assign list that contains even numbers from 1 to 10. Then add apple word to the list. \n",
        "# It will look like 'apple' in the list. \n",
        "\n",
        "## Your code here - down ##\n",
        "ls_1 = [2,4,6,8,10]\n",
        "ls_1.append('apple')\n",
        "## Your code here - up ##"
      ]
    },
    {
      "cell_type": "code",
      "execution_count": 9,
      "metadata": {
        "id": "hHYeNRHOPqX2"
      },
      "outputs": [
        {
          "data": {
            "text/plain": [
              "'apple'"
            ]
          },
          "execution_count": 9,
          "metadata": {},
          "output_type": "execute_result"
        }
      ],
      "source": [
        "# Now it is time to delete 'apple' word from the list. It looks weird there.\n",
        "\n",
        "## Your code here - down ##\n",
        "ls_1.pop()\n",
        "## Your code here - up ##"
      ]
    },
    {
      "cell_type": "code",
      "execution_count": 11,
      "metadata": {
        "id": "cr2F3ZWNP3Wv"
      },
      "outputs": [
        {
          "data": {
            "text/plain": [
              "6"
            ]
          },
          "execution_count": 11,
          "metadata": {},
          "output_type": "execute_result"
        }
      ],
      "source": [
        "# Can you print 6 only from the list? If yes, please show in the codes.\n",
        "\n",
        "## Your code here - down ##\n",
        "ls_1[2]\n",
        "## Your code here - up ##"
      ]
    },
    {
      "cell_type": "markdown",
      "metadata": {
        "id": "a6NObJGmQWaD"
      },
      "source": [
        "END OF ASSIGNEMNT\n",
        "\n",
        "Thank you!"
      ]
    }
  ],
  "metadata": {
    "colab": {
      "provenance": []
    },
    "kernelspec": {
      "display_name": "base",
      "language": "python",
      "name": "python3"
    },
    "language_info": {
      "codemirror_mode": {
        "name": "ipython",
        "version": 3
      },
      "file_extension": ".py",
      "mimetype": "text/x-python",
      "name": "python",
      "nbconvert_exporter": "python",
      "pygments_lexer": "ipython3",
      "version": "3.9.13"
    },
    "vscode": {
      "interpreter": {
        "hash": "5e820f3ddc028a719ffe50e7d80dd01658ce1fe998d4f6f388d9b09d11d3d164"
      }
    }
  },
  "nbformat": 4,
  "nbformat_minor": 0
}
