{
  "cells": [
    {
      "cell_type": "markdown",
      "source": [
        "# Python Basics"
      ],
      "metadata": {
        "id": "Esb_dXxy57xu"
      }
    },
    {
      "cell_type": "markdown",
      "source": [
        "## Print Function and Variables"
      ],
      "metadata": {
        "id": "3Ggr2Pa75qH4"
      }
    },
    {
      "cell_type": "markdown",
      "source": [
        "### Strings"
      ],
      "metadata": {
        "id": "6uUyiVhZ6LDD"
      }
    },
    {
      "cell_type": "code",
      "execution_count": null,
      "metadata": {
        "id": "-wR4t1Ws5MVI",
        "outputId": "2213e910-e7e4-485b-d690-dbf2dcbcfd90"
      },
      "outputs": [
        {
          "name": "stdout",
          "output_type": "stream",
          "text": [
            "Hello World\n"
          ]
        }
      ],
      "source": [
        "print(\"Hello World\")"
      ]
    },
    {
      "cell_type": "code",
      "execution_count": null,
      "metadata": {
        "id": "A5TDffZG5MVK",
        "outputId": "3fc962a4-2faa-4a06-98e4-d81cae4f3755"
      },
      "outputs": [
        {
          "name": "stdout",
          "output_type": "stream",
          "text": [
            "more string\n"
          ]
        }
      ],
      "source": [
        "print('more string')"
      ]
    },
    {
      "cell_type": "code",
      "execution_count": null,
      "metadata": {
        "id": "SW9zLc6F5MVL",
        "outputId": "c8f8430e-bd5a-41ac-a27c-3c923ff4ec4d"
      },
      "outputs": [
        {
          "name": "stdout",
          "output_type": "stream",
          "text": [
            "3\n"
          ]
        }
      ],
      "source": [
        "print(3)"
      ]
    },
    {
      "cell_type": "code",
      "execution_count": null,
      "metadata": {
        "id": "zRZdrEVC5MVL",
        "outputId": "b49919a2-25ea-4319-d494-dbb6c9bb4758"
      },
      "outputs": [
        {
          "name": "stdout",
          "output_type": "stream",
          "text": [
            "more string\n",
            "3\n"
          ]
        }
      ],
      "source": [
        "print(\"more string\")\n",
        "print(3)"
      ]
    },
    {
      "cell_type": "markdown",
      "source": [
        "### Variables"
      ],
      "metadata": {
        "id": "AONZEoOg6RbW"
      }
    },
    {
      "cell_type": "code",
      "execution_count": null,
      "metadata": {
        "collapsed": true,
        "id": "Lr515C1x5MVM"
      },
      "outputs": [],
      "source": [
        "a = 1"
      ]
    },
    {
      "cell_type": "code",
      "execution_count": null,
      "metadata": {
        "id": "8pwQy1K75MVM",
        "outputId": "0326d7f6-f615-499f-ce35-e6ded0f8e2cb"
      },
      "outputs": [
        {
          "name": "stdout",
          "output_type": "stream",
          "text": [
            "1\n"
          ]
        }
      ],
      "source": [
        "print(a)"
      ]
    },
    {
      "cell_type": "code",
      "execution_count": null,
      "metadata": {
        "collapsed": true,
        "id": "uFOX_LqE5MVM"
      },
      "outputs": [],
      "source": [
        "b = 2"
      ]
    },
    {
      "cell_type": "code",
      "execution_count": null,
      "metadata": {
        "id": "DJ5ibSWY5MVN",
        "outputId": "af614e23-edb5-421d-c1e9-817b0682cd3e"
      },
      "outputs": [
        {
          "name": "stdout",
          "output_type": "stream",
          "text": [
            "2\n"
          ]
        }
      ],
      "source": [
        "print(b)"
      ]
    },
    {
      "cell_type": "code",
      "execution_count": null,
      "metadata": {
        "collapsed": true,
        "id": "aSre-X8Q5MVO"
      },
      "outputs": [],
      "source": [
        "c = \"hello there\""
      ]
    },
    {
      "cell_type": "code",
      "execution_count": null,
      "metadata": {
        "id": "KTWo0Ylk5MVO",
        "outputId": "37ea8ff2-4984-44e4-bfba-b69e543aa499"
      },
      "outputs": [
        {
          "name": "stdout",
          "output_type": "stream",
          "text": [
            "hello there\n"
          ]
        }
      ],
      "source": [
        "print(c)"
      ]
    },
    {
      "cell_type": "code",
      "execution_count": null,
      "metadata": {
        "collapsed": true,
        "id": "CDYb8h7Z5MVP"
      },
      "outputs": [],
      "source": [
        "b = 1"
      ]
    },
    {
      "cell_type": "code",
      "execution_count": null,
      "metadata": {
        "id": "NXbGEBG55MVP",
        "outputId": "8670e937-e390-4178-c16a-523c0c0d417e"
      },
      "outputs": [
        {
          "name": "stdout",
          "output_type": "stream",
          "text": [
            "1\n"
          ]
        }
      ],
      "source": [
        "print(b)"
      ]
    },
    {
      "cell_type": "code",
      "execution_count": null,
      "metadata": {
        "id": "mz6jXDqy5MVP",
        "outputId": "155e12cb-131a-4b4f-95da-1306e1172607"
      },
      "outputs": [
        {
          "ename": "NameError",
          "evalue": "name 'e' is not defined",
          "output_type": "error",
          "traceback": [
            "\u001b[0;31m---------------------------------------------------------------------------\u001b[0m",
            "\u001b[0;31mNameError\u001b[0m                                 Traceback (most recent call last)",
            "\u001b[0;32m<ipython-input-19-bb2ea196f768>\u001b[0m in \u001b[0;36m<module>\u001b[0;34m()\u001b[0m\n\u001b[0;32m----> 1\u001b[0;31m \u001b[0mprint\u001b[0m\u001b[0;34m(\u001b[0m\u001b[0me\u001b[0m\u001b[0;34m)\u001b[0m\u001b[0;34m\u001b[0m\u001b[0m\n\u001b[0m",
            "\u001b[0;31mNameError\u001b[0m: name 'e' is not defined"
          ]
        }
      ],
      "source": [
        "print(e)"
      ]
    },
    {
      "cell_type": "code",
      "execution_count": null,
      "metadata": {
        "collapsed": true,
        "id": "O7IVjOx25MVP"
      },
      "outputs": [],
      "source": [
        "e = \"this is a string\""
      ]
    },
    {
      "cell_type": "code",
      "execution_count": null,
      "metadata": {
        "id": "QOTi7r755MVP",
        "outputId": "d4921d3d-bff0-487b-f4b8-ee9f09616e92"
      },
      "outputs": [
        {
          "name": "stdout",
          "output_type": "stream",
          "text": [
            "this is a string\n"
          ]
        }
      ],
      "source": [
        "print(e)"
      ]
    },
    {
      "cell_type": "code",
      "execution_count": null,
      "metadata": {
        "collapsed": true,
        "id": "vN5jUO8A5MVQ"
      },
      "outputs": [],
      "source": [
        "f = a"
      ]
    },
    {
      "cell_type": "code",
      "execution_count": null,
      "metadata": {
        "id": "CKm1Pfm85MVQ",
        "outputId": "aa3ab9e8-3c80-42a2-acfc-181e42864da9"
      },
      "outputs": [
        {
          "name": "stdout",
          "output_type": "stream",
          "text": [
            "1\n"
          ]
        }
      ],
      "source": [
        "print(f)"
      ]
    },
    {
      "cell_type": "markdown",
      "source": [
        "### Conditional Statements"
      ],
      "metadata": {
        "id": "UOiHmWNf7YP8"
      }
    },
    {
      "cell_type": "code",
      "source": [
        "a = 1\n",
        "b = 2\n",
        "if a < b:\n",
        "    print(\"a is less than b\")"
      ],
      "metadata": {
        "colab": {
          "base_uri": "https://localhost:8080/"
        },
        "id": "bLiIkXQw74CP",
        "outputId": "af818d55-542a-490d-9177-4dd560dc295b"
      },
      "execution_count": 1,
      "outputs": [
        {
          "output_type": "stream",
          "name": "stdout",
          "text": [
            "a is less than b\n"
          ]
        }
      ]
    },
    {
      "cell_type": "code",
      "source": [
        "c = 5\n",
        "d = 4\n",
        "if c < d:\n",
        "    print(\"c is less than d\")\n",
        "else:\n",
        "    print(\"c is NOT less than d\")"
      ],
      "metadata": {
        "colab": {
          "base_uri": "https://localhost:8080/"
        },
        "id": "ousNt_jr7-fC",
        "outputId": "408a8c4f-3dc1-4cb6-cca7-4025a191c4a3"
      },
      "execution_count": 2,
      "outputs": [
        {
          "output_type": "stream",
          "name": "stdout",
          "text": [
            "c is NOT less than d\n"
          ]
        }
      ]
    },
    {
      "cell_type": "code",
      "source": [
        "c = 4\n",
        "d = 5\n",
        "if c < d:\n",
        "    print(\"c is less than d\")\n",
        "else:\n",
        "    print(\"c is NOT less than d\")"
      ],
      "metadata": {
        "colab": {
          "base_uri": "https://localhost:8080/"
        },
        "id": "sOCrRKch8FlA",
        "outputId": "c5727973-ecb1-4971-fba2-248bc4937f68"
      },
      "execution_count": 3,
      "outputs": [
        {
          "output_type": "stream",
          "name": "stdout",
          "text": [
            "c is less than d\n"
          ]
        }
      ]
    },
    {
      "cell_type": "code",
      "source": [
        "canola_weight = 3000 # yield per acre in pounds\n",
        "unit = 50 # 1 bushel 50 pounds\n",
        "bushel_per_acre = canola_weight/unit \n",
        "if bushel_per_acre > 45:\n",
        "    print('Yield was better this year')\n",
        "else:\n",
        "    print('Yield was not good this year')"
      ],
      "metadata": {
        "colab": {
          "base_uri": "https://localhost:8080/"
        },
        "id": "2TMqdeMg8jXs",
        "outputId": "9f81d383-a204-4ab7-e4b4-b48c2f13097d"
      },
      "execution_count": 13,
      "outputs": [
        {
          "output_type": "stream",
          "name": "stdout",
          "text": [
            "Yield was better this year\n"
          ]
        }
      ]
    },
    {
      "cell_type": "markdown",
      "source": [
        "### Functions"
      ],
      "metadata": {
        "id": "pcA1wHd3_GGi"
      }
    },
    {
      "cell_type": "code",
      "source": [
        "def soil_type():\n",
        "    print('Dark Brown')\n",
        "    print('Black')\n",
        "print('Blue - There is no soil type like that')"
      ],
      "metadata": {
        "colab": {
          "base_uri": "https://localhost:8080/"
        },
        "id": "Kr2C67n2_IJ2",
        "outputId": "dd339250-7036-4a0c-9fed-4f9a74a7f47a"
      },
      "execution_count": 17,
      "outputs": [
        {
          "output_type": "stream",
          "name": "stdout",
          "text": [
            "Blue - There is no soil type like that\n"
          ]
        }
      ]
    },
    {
      "cell_type": "code",
      "source": [
        "soil_type()"
      ],
      "metadata": {
        "colab": {
          "base_uri": "https://localhost:8080/"
        },
        "id": "3qUvvOlW_Vcf",
        "outputId": "ec525098-a70a-41e3-9ae9-ec9b14b33ef9"
      },
      "execution_count": 16,
      "outputs": [
        {
          "output_type": "stream",
          "name": "stdout",
          "text": [
            "Dark Brown\n",
            "Black\n"
          ]
        }
      ]
    },
    {
      "cell_type": "code",
      "source": [
        "def square(x):\n",
        "    return x**2"
      ],
      "metadata": {
        "id": "b8BbQ6_I_W77"
      },
      "execution_count": 18,
      "outputs": []
    },
    {
      "cell_type": "code",
      "source": [
        "square(4)"
      ],
      "metadata": {
        "colab": {
          "base_uri": "https://localhost:8080/"
        },
        "id": "m4DPcsgl_0Hm",
        "outputId": "ff361971-b18f-44be-c7e8-cbd6555a53e5"
      },
      "execution_count": 19,
      "outputs": [
        {
          "output_type": "execute_result",
          "data": {
            "text/plain": [
              "16"
            ]
          },
          "metadata": {},
          "execution_count": 19
        }
      ]
    },
    {
      "cell_type": "code",
      "source": [
        "def sum(a, b):\n",
        "    a = 6\n",
        "    b = 10\n",
        "    return a + b"
      ],
      "metadata": {
        "id": "Iqlb1WlhAupq"
      },
      "execution_count": 23,
      "outputs": []
    },
    {
      "cell_type": "code",
      "source": [
        "sum(a,b)"
      ],
      "metadata": {
        "colab": {
          "base_uri": "https://localhost:8080/"
        },
        "id": "L4Z4brQEA5Ps",
        "outputId": "7c0befec-17b9-40fe-fa6b-f0f007ef4c75"
      },
      "execution_count": 24,
      "outputs": [
        {
          "output_type": "execute_result",
          "data": {
            "text/plain": [
              "16"
            ]
          },
          "metadata": {},
          "execution_count": 24
        }
      ]
    },
    {
      "cell_type": "code",
      "source": [
        "def canola_convertion(pounds, unit):\n",
        "    return pounds/unit"
      ],
      "metadata": {
        "id": "h5O9s3GD_3O4"
      },
      "execution_count": 20,
      "outputs": []
    },
    {
      "cell_type": "code",
      "source": [
        "canola_convertion(3000, 50)"
      ],
      "metadata": {
        "colab": {
          "base_uri": "https://localhost:8080/"
        },
        "id": "R35ymex7AQxu",
        "outputId": "494334c3-a049-4d14-e5a7-b216dc3819a0"
      },
      "execution_count": 22,
      "outputs": [
        {
          "output_type": "execute_result",
          "data": {
            "text/plain": [
              "60.0"
            ]
          },
          "metadata": {},
          "execution_count": 22
        }
      ]
    },
    {
      "cell_type": "code",
      "source": [
        "def canola_convertion(pounds, unit):\n",
        "    if bushel_per_acre > 45:\n",
        "        print('Yield was better this year: ')\n",
        "    else:\n",
        "        print('Yield was not good this year: ')\n",
        "    return pounds/unit"
      ],
      "metadata": {
        "id": "zmSwwSKkATIK"
      },
      "execution_count": 27,
      "outputs": []
    },
    {
      "cell_type": "code",
      "source": [
        "canola_convertion(3000, 50)"
      ],
      "metadata": {
        "colab": {
          "base_uri": "https://localhost:8080/"
        },
        "id": "FGlxrxTbBc4l",
        "outputId": "79de5a23-e252-4d99-f57c-e18bcd947b3a"
      },
      "execution_count": 28,
      "outputs": [
        {
          "output_type": "stream",
          "name": "stdout",
          "text": [
            "Yield was better this year: \n"
          ]
        },
        {
          "output_type": "execute_result",
          "data": {
            "text/plain": [
              "60.0"
            ]
          },
          "metadata": {},
          "execution_count": 28
        }
      ]
    },
    {
      "cell_type": "markdown",
      "source": [
        "### Introduction to Lists"
      ],
      "metadata": {
        "id": "rSEd64UcEpV4"
      }
    },
    {
      "cell_type": "code",
      "source": [
        "ls_1 = [2,3,4,7]"
      ],
      "metadata": {
        "id": "EO9SlhREEsZl"
      },
      "execution_count": 31,
      "outputs": []
    },
    {
      "cell_type": "code",
      "source": [
        "print(ls_1)"
      ],
      "metadata": {
        "colab": {
          "base_uri": "https://localhost:8080/"
        },
        "id": "8BC-K_QyEx6Y",
        "outputId": "5f3c63ca-9f5f-47c9-f560-3bb9a607e626"
      },
      "execution_count": 32,
      "outputs": [
        {
          "output_type": "stream",
          "name": "stdout",
          "text": [
            "[2, 3, 4, 7]\n"
          ]
        }
      ]
    },
    {
      "cell_type": "code",
      "source": [
        "ls_2 = [4,78, 98, 'Stark']"
      ],
      "metadata": {
        "id": "K7fE33CFEzqj"
      },
      "execution_count": 33,
      "outputs": []
    },
    {
      "cell_type": "code",
      "source": [
        "ls_2"
      ],
      "metadata": {
        "colab": {
          "base_uri": "https://localhost:8080/"
        },
        "id": "51GskLopE_3o",
        "outputId": "b825c549-7e90-424d-8bdb-d70d8c65686d"
      },
      "execution_count": 34,
      "outputs": [
        {
          "output_type": "execute_result",
          "data": {
            "text/plain": [
              "[4, 78, 98, 'Stark']"
            ]
          },
          "metadata": {},
          "execution_count": 34
        }
      ]
    },
    {
      "cell_type": "code",
      "source": [
        "ls_1.append(3)"
      ],
      "metadata": {
        "id": "IAPYKLkVFBcs"
      },
      "execution_count": 35,
      "outputs": []
    },
    {
      "cell_type": "code",
      "source": [
        "ls_1"
      ],
      "metadata": {
        "colab": {
          "base_uri": "https://localhost:8080/"
        },
        "id": "ldy1ilN2FMnX",
        "outputId": "6e05548f-f0d0-49e0-f2bb-5844d52bd2fb"
      },
      "execution_count": 36,
      "outputs": [
        {
          "output_type": "execute_result",
          "data": {
            "text/plain": [
              "[2, 3, 4, 7, 3]"
            ]
          },
          "metadata": {},
          "execution_count": 36
        }
      ]
    },
    {
      "cell_type": "code",
      "source": [
        "ls_2.append('Lannister')"
      ],
      "metadata": {
        "id": "L0rMHyXbFOYO"
      },
      "execution_count": 37,
      "outputs": []
    },
    {
      "cell_type": "code",
      "source": [
        "ls_2"
      ],
      "metadata": {
        "colab": {
          "base_uri": "https://localhost:8080/"
        },
        "id": "A6giAkOBFZZX",
        "outputId": "2e99b839-55c7-4e88-a201-428fd38d5f3c"
      },
      "execution_count": 38,
      "outputs": [
        {
          "output_type": "execute_result",
          "data": {
            "text/plain": [
              "[4, 78, 98, 'Stark', 'Lannister']"
            ]
          },
          "metadata": {},
          "execution_count": 38
        }
      ]
    },
    {
      "cell_type": "code",
      "source": [
        "ls_2.pop()"
      ],
      "metadata": {
        "colab": {
          "base_uri": "https://localhost:8080/",
          "height": 35
        },
        "id": "btFjJRCoFaKk",
        "outputId": "600588db-391d-4dd5-9893-2b4f0f9708d2"
      },
      "execution_count": 39,
      "outputs": [
        {
          "output_type": "execute_result",
          "data": {
            "text/plain": [
              "'Lannister'"
            ],
            "application/vnd.google.colaboratory.intrinsic+json": {
              "type": "string"
            }
          },
          "metadata": {},
          "execution_count": 39
        }
      ]
    },
    {
      "cell_type": "code",
      "source": [
        "ls_2"
      ],
      "metadata": {
        "colab": {
          "base_uri": "https://localhost:8080/"
        },
        "id": "_lumv_gFFmQI",
        "outputId": "63db8a6b-0127-48c4-dd26-9db16c3505ef"
      },
      "execution_count": 40,
      "outputs": [
        {
          "output_type": "execute_result",
          "data": {
            "text/plain": [
              "[4, 78, 98, 'Stark']"
            ]
          },
          "metadata": {},
          "execution_count": 40
        }
      ]
    },
    {
      "cell_type": "code",
      "source": [
        "ls_1"
      ],
      "metadata": {
        "colab": {
          "base_uri": "https://localhost:8080/"
        },
        "id": "jzf2grh1FoWn",
        "outputId": "43529951-0c8e-4396-a8f0-e9386e83e614"
      },
      "execution_count": 42,
      "outputs": [
        {
          "output_type": "execute_result",
          "data": {
            "text/plain": [
              "[2, 3, 4, 7, 3]"
            ]
          },
          "metadata": {},
          "execution_count": 42
        }
      ]
    },
    {
      "cell_type": "code",
      "source": [
        "ls_1[0]"
      ],
      "metadata": {
        "colab": {
          "base_uri": "https://localhost:8080/"
        },
        "id": "xF5q0r0jF2RA",
        "outputId": "8219789a-b7ac-4bdd-8ea9-805f79318abb"
      },
      "execution_count": 44,
      "outputs": [
        {
          "output_type": "execute_result",
          "data": {
            "text/plain": [
              "2"
            ]
          },
          "metadata": {},
          "execution_count": 44
        }
      ]
    },
    {
      "cell_type": "code",
      "source": [
        "ls_1[3]"
      ],
      "metadata": {
        "colab": {
          "base_uri": "https://localhost:8080/"
        },
        "id": "obiN63ubF7R_",
        "outputId": "fb83cbb5-5653-4cff-ac34-d55288f8c979"
      },
      "execution_count": 45,
      "outputs": [
        {
          "output_type": "execute_result",
          "data": {
            "text/plain": [
              "7"
            ]
          },
          "metadata": {},
          "execution_count": 45
        }
      ]
    },
    {
      "cell_type": "code",
      "source": [
        "ls_1[0]='opps'"
      ],
      "metadata": {
        "id": "pMSHJfD-GDZ7"
      },
      "execution_count": 46,
      "outputs": []
    },
    {
      "cell_type": "code",
      "source": [
        "ls_1"
      ],
      "metadata": {
        "colab": {
          "base_uri": "https://localhost:8080/"
        },
        "id": "HEVHO3yGGH2X",
        "outputId": "6258d898-7a22-4f17-dc12-914913c31dd5"
      },
      "execution_count": 48,
      "outputs": [
        {
          "output_type": "execute_result",
          "data": {
            "text/plain": [
              "['opps', 3, 4, 7, 3]"
            ]
          },
          "metadata": {},
          "execution_count": 48
        }
      ]
    }
  ],
  "metadata": {
    "kernelspec": {
      "display_name": "Python 3",
      "language": "python",
      "name": "python3"
    },
    "language_info": {
      "codemirror_mode": {
        "name": "ipython",
        "version": 3
      },
      "file_extension": ".py",
      "mimetype": "text/x-python",
      "name": "python",
      "nbconvert_exporter": "python",
      "pygments_lexer": "ipython3",
      "version": "3.6.3"
    },
    "colab": {
      "provenance": [],
      "toc_visible": true
    }
  },
  "nbformat": 4,
  "nbformat_minor": 0
}