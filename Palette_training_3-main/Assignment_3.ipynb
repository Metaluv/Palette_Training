{
  "cells": [
    {
      "cell_type": "markdown",
      "metadata": {
        "id": "G_4Uq9AcI7KL"
      },
      "source": [
        "# Assignment 3"
      ]
    },
    {
      "cell_type": "markdown",
      "metadata": {
        "id": "fr_EGCu-JMed"
      },
      "source": [
        "Please do not change, delete or edit any cells. Write your code in between designated lines."
      ]
    },
    {
      "cell_type": "markdown",
      "metadata": {
        "id": "L69__o06JnIg"
      },
      "source": [
        "## Question 1 (15 points)"
      ]
    },
    {
      "cell_type": "code",
      "execution_count": 1,
      "metadata": {
        "id": "bVAI5ISdJOWR"
      },
      "outputs": [
        {
          "name": "stdout",
          "output_type": "stream",
          "text": [
            "{'Peas': 55, 'Canola': 66, 'Oat': 65}\n"
          ]
        }
      ],
      "source": [
        "# Create a dictionary named dict1 then add key and values.\n",
        "# When you print output of dict1 will be shown as {'Peas': 55, 'Canola': 66, 'Oat': 65}.\n",
        "\n",
        "## Your code here - down ##\n",
        "dict1 = {'Peas': 55, 'Canola': 66, 'Oat': 65}\n",
        "print(dict1)\n",
        "## Your code here - up ##"
      ]
    },
    {
      "cell_type": "code",
      "execution_count": 2,
      "metadata": {
        "id": "962MZgyEKSBw"
      },
      "outputs": [
        {
          "name": "stdout",
          "output_type": "stream",
          "text": [
            "{'Peas': 66, 'Canola': 66, 'Oat': 65}\n"
          ]
        }
      ],
      "source": [
        "# In this cell you need to change the assigned value of Peas to 66 and print dict1 again.\n",
        "\n",
        "## Your code here - down ##\n",
        "dict1['Peas'] = 66\n",
        "print(dict1)\n",
        "## Your code here - up ##"
      ]
    },
    {
      "cell_type": "code",
      "execution_count": 3,
      "metadata": {
        "id": "ZYkqG-uxKyMe"
      },
      "outputs": [
        {
          "name": "stdout",
          "output_type": "stream",
          "text": [
            "Peas\n",
            "66\n",
            "Canola\n",
            "66\n",
            "Oat\n",
            "65\n"
          ]
        }
      ],
      "source": [
        "# Now use For Loop and print values and key inside dict1. Your output will look like:\n",
        "# Peas\n",
        "# 66\n",
        "# and so on.\n",
        "\n",
        "## Your code here - down ##\n",
        "for key, value in dict1.items():\n",
        "    print(key)\n",
        "    print(value)\n",
        "## Your code here - up ##"
      ]
    },
    {
      "cell_type": "markdown",
      "metadata": {
        "id": "e4Ugu5vNKohg"
      },
      "source": [
        "## Question 2 (30 points)"
      ]
    },
    {
      "cell_type": "code",
      "execution_count": 25,
      "metadata": {
        "id": "1MeSpsIaMFrn"
      },
      "outputs": [
        {
          "name": "stdout",
          "output_type": "stream",
          "text": [
            "[4, 49, 81, 16]\n"
          ]
        }
      ],
      "source": [
        "ls = [2,7,9, 4]\n",
        "\n",
        "# Method 1\n",
        "# Ceate a list that consist of square of ls values.\n",
        "\n",
        "## Your code here - down ##\n",
        "ls2 = []\n",
        "for i in ls:\n",
        "    ls2.append(i**2)\n",
        "print(ls2)\n",
        "\n",
        "## Your code here - up ##"
      ]
    },
    {
      "cell_type": "code",
      "execution_count": 26,
      "metadata": {
        "id": "41u-FWnoMpfq"
      },
      "outputs": [
        {
          "name": "stdout",
          "output_type": "stream",
          "text": [
            "[4, 49, 81, 16]\n"
          ]
        }
      ],
      "source": [
        "# Method 2\n",
        "\n",
        "## Your code here - down ##\n",
        "ls3 = [i**2 for i in ls]\n",
        "print(ls3)\n",
        "## Your code here - up ##"
      ]
    },
    {
      "cell_type": "markdown",
      "metadata": {
        "id": "eeYzaBCFMwgS"
      },
      "source": [
        "## Question 3 (55 points)"
      ]
    },
    {
      "cell_type": "code",
      "execution_count": 7,
      "metadata": {},
      "outputs": [],
      "source": [
        "import numpy as np"
      ]
    },
    {
      "cell_type": "code",
      "execution_count": 8,
      "metadata": {
        "id": "OXhs3bGZM-Oj"
      },
      "outputs": [
        {
          "data": {
            "text/plain": [
              "(2, 3)"
            ]
          },
          "execution_count": 8,
          "metadata": {},
          "output_type": "execute_result"
        }
      ],
      "source": [
        "ar_1 = np.array([[3, 4, 5],\n",
        "                 [3, 4, 5]])\n",
        "# What is shape of the array?\n",
        "\n",
        "## Your code here - down ##\n",
        "ar_1.shape\n",
        "## Your code here - up ##"
      ]
    },
    {
      "cell_type": "code",
      "execution_count": 9,
      "metadata": {
        "id": "oOm_o0nCNWGD"
      },
      "outputs": [
        {
          "data": {
            "text/plain": [
              "[3, 4, 5]"
            ]
          },
          "execution_count": 9,
          "metadata": {},
          "output_type": "execute_result"
        }
      ],
      "source": [
        "ar_2 = ([[3, 4, 5],\n",
        "         [8, 4, 1]])\n",
        "# Print first row of ar_2\n",
        "\n",
        "## Your code here - down ##\n",
        "ar_2[0]\n",
        "## Your code here - up ##"
      ]
    },
    {
      "cell_type": "code",
      "execution_count": 13,
      "metadata": {
        "id": "y9bfDeDQOBAn"
      },
      "outputs": [
        {
          "data": {
            "text/plain": [
              "1"
            ]
          },
          "execution_count": 13,
          "metadata": {},
          "output_type": "execute_result"
        }
      ],
      "source": [
        "# Write a code that will print 1 in ar_2.\n",
        "\n",
        "## Your code here - down ##\n",
        "ar_2[1][-1]\n",
        "## Your code here - up ##"
      ]
    },
    {
      "cell_type": "code",
      "execution_count": 21,
      "metadata": {
        "id": "qSs9eeJZOPSs"
      },
      "outputs": [
        {
          "data": {
            "text/plain": [
              "4.166666666666667"
            ]
          },
          "execution_count": 21,
          "metadata": {},
          "output_type": "execute_result"
        }
      ],
      "source": [
        "# Print entire mean of ar_2\n",
        "\n",
        "## Your code here - down ##\n",
        "np.mean(ar_2)\n",
        "\n",
        "## Your code here - up ##"
      ]
    },
    {
      "cell_type": "code",
      "execution_count": 22,
      "metadata": {
        "id": "eoWFWqzLOiuP"
      },
      "outputs": [
        {
          "data": {
            "text/plain": [
              "array([5.5, 4. , 3. ])"
            ]
          },
          "execution_count": 22,
          "metadata": {},
          "output_type": "execute_result"
        }
      ],
      "source": [
        "# Print each columns' mean\n",
        "\n",
        "## Your code here - down ##\n",
        "np.mean(ar_2, axis=0)\n",
        "## Your code here - up ##"
      ]
    },
    {
      "cell_type": "code",
      "execution_count": 23,
      "metadata": {
        "id": "z2JxGSG1OyR1"
      },
      "outputs": [
        {
          "data": {
            "text/plain": [
              "2.1147629234082532"
            ]
          },
          "execution_count": 23,
          "metadata": {},
          "output_type": "execute_result"
        }
      ],
      "source": [
        "# Print entire standard deviation  of ar_2\n",
        "\n",
        "## Your code here - down ##\n",
        "np.std(ar_2)\n",
        "## Your code here - up ##"
      ]
    },
    {
      "cell_type": "code",
      "execution_count": 24,
      "metadata": {
        "id": "MxSBTiL4O4-W"
      },
      "outputs": [
        {
          "data": {
            "text/plain": [
              "array([0.81649658, 2.86744176])"
            ]
          },
          "execution_count": 24,
          "metadata": {},
          "output_type": "execute_result"
        }
      ],
      "source": [
        "# Print each rows' standard deviation.\n",
        "\n",
        "## Your code here - down ##\n",
        "np.std(ar_2, axis=1)\n",
        "## Your code here - up ##"
      ]
    },
    {
      "cell_type": "code",
      "execution_count": 27,
      "metadata": {
        "id": "XF4u_fPtPBAX"
      },
      "outputs": [
        {
          "data": {
            "text/plain": [
              "0.16666666666666696"
            ]
          },
          "execution_count": 27,
          "metadata": {},
          "output_type": "execute_result"
        }
      ],
      "source": [
        "# Find the difference between mean and median of entire ar_2.\n",
        "\n",
        "## Your code here - down ##\n",
        "np.mean(ar_2) - np.median(ar_2)\n",
        "## Your code here - up ##"
      ]
    },
    {
      "cell_type": "markdown",
      "metadata": {
        "id": "ziac1rfuPp8H"
      },
      "source": [
        "Are mean and median same? If they are different, explain what does that mean.\n",
        "\n",
        "Please explain below in this cell only.\n"
      ]
    },
    {
      "attachments": {},
      "cell_type": "markdown",
      "metadata": {},
      "source": [
        "Mean and Median are not the same. Mean is for finding the average of all values in a set of numbers by adding sum of the set and dividing by the count of numbers in the set. Median is the middle value of a set of numbers and is for find the center of a data set."
      ]
    }
  ],
  "metadata": {
    "colab": {
      "provenance": []
    },
    "kernelspec": {
      "display_name": "base",
      "language": "python",
      "name": "python3"
    },
    "language_info": {
      "codemirror_mode": {
        "name": "ipython",
        "version": 3
      },
      "file_extension": ".py",
      "mimetype": "text/x-python",
      "name": "python",
      "nbconvert_exporter": "python",
      "pygments_lexer": "ipython3",
      "version": "3.9.13 (main, Aug 25 2022, 23:51:50) [MSC v.1916 64 bit (AMD64)]"
    },
    "vscode": {
      "interpreter": {
        "hash": "5e820f3ddc028a719ffe50e7d80dd01658ce1fe998d4f6f388d9b09d11d3d164"
      }
    }
  },
  "nbformat": 4,
  "nbformat_minor": 0
}
