{
  "cells": [
    {
      "cell_type": "markdown",
      "metadata": {
        "id": "jDypv8vjx_sF"
      },
      "source": [
        "# Training 3"
      ]
    },
    {
      "cell_type": "markdown",
      "metadata": {
        "id": "uNoKWRLoyTGt"
      },
      "source": [
        "## Dictionary"
      ]
    },
    {
      "cell_type": "code",
      "execution_count": 13,
      "metadata": {
        "collapsed": true,
        "id": "2h_QX3MTwhZt"
      },
      "outputs": [],
      "source": [
        "dic = {}"
      ]
    },
    {
      "cell_type": "code",
      "execution_count": 14,
      "metadata": {
        "collapsed": true,
        "id": "KDx6DSxfwhZv"
      },
      "outputs": [],
      "source": [
        "dic['Canola'] = 45\n",
        "dic['Wheat'] = 52\n",
        "dic['Oat'] = 90"
      ]
    },
    {
      "cell_type": "code",
      "execution_count": 15,
      "metadata": {
        "colab": {
          "base_uri": "https://localhost:8080/"
        },
        "collapsed": true,
        "id": "m-SmWxnMwhZw",
        "outputId": "469da5d5-b1a2-4a50-9a5e-d012723437e4"
      },
      "outputs": [
        {
          "data": {
            "text/plain": [
              "{'Canola': 45, 'Wheat': 52, 'Oat': 90}"
            ]
          },
          "execution_count": 15,
          "metadata": {},
          "output_type": "execute_result"
        }
      ],
      "source": [
        "dic"
      ]
    },
    {
      "cell_type": "code",
      "execution_count": 16,
      "metadata": {
        "colab": {
          "base_uri": "https://localhost:8080/"
        },
        "id": "OBjdwHLWxpee",
        "outputId": "6093df13-f7e3-4974-f7fd-5656ac250447"
      },
      "outputs": [
        {
          "name": "stdout",
          "output_type": "stream",
          "text": [
            "45\n"
          ]
        }
      ],
      "source": [
        "print(dic['Canola'])"
      ]
    },
    {
      "cell_type": "code",
      "execution_count": 19,
      "metadata": {
        "colab": {
          "base_uri": "https://localhost:8080/"
        },
        "id": "6XEJ6zTBxwtD",
        "outputId": "e14b95c0-b01c-48c4-f764-faadb4da5367"
      },
      "outputs": [
        {
          "name": "stdout",
          "output_type": "stream",
          "text": [
            "Canola yield is 45\n"
          ]
        }
      ],
      "source": [
        "print('Canola yield is', dic['Canola'])"
      ]
    },
    {
      "cell_type": "markdown",
      "metadata": {
        "id": "-5Dfo1GRzPbO"
      },
      "source": [
        "### Loops in Dictionary"
      ]
    },
    {
      "cell_type": "code",
      "execution_count": 23,
      "metadata": {
        "colab": {
          "base_uri": "https://localhost:8080/"
        },
        "id": "PDA6P6_OwhZ0",
        "outputId": "a51b8ff5-173a-4c19-b258-0465b708dc4a"
      },
      "outputs": [
        {
          "name": "stdout",
          "output_type": "stream",
          "text": [
            "Canola\n",
            "45\n",
            "Wheat\n",
            "52\n",
            "Oat\n",
            "90\n"
          ]
        }
      ],
      "source": [
        "for key, value in dic.items():\n",
        "    print(key)\n",
        "    print(value)"
      ]
    },
    {
      "cell_type": "code",
      "execution_count": 26,
      "metadata": {
        "collapsed": true,
        "id": "SB2ZwvPRwhZ0"
      },
      "outputs": [],
      "source": [
        "dic_list = {\n",
        "    'Canola': [35, 57, 60],\n",
        "    'Whaet': [77, 53, 44]\n",
        "}"
      ]
    },
    {
      "cell_type": "code",
      "execution_count": 27,
      "metadata": {
        "colab": {
          "base_uri": "https://localhost:8080/"
        },
        "id": "ObxQgIWu2ZN_",
        "outputId": "9edd8eae-d7fc-442b-cade-173a3a7babdd"
      },
      "outputs": [
        {
          "data": {
            "text/plain": [
              "{'Canola': [35, 57, 60], 'Whaet': [77, 53, 44]}"
            ]
          },
          "execution_count": 27,
          "metadata": {},
          "output_type": "execute_result"
        }
      ],
      "source": [
        "dic_list"
      ]
    },
    {
      "cell_type": "markdown",
      "metadata": {
        "id": "7R2omg-e2oPV"
      },
      "source": [
        "## List Comprihentions"
      ]
    },
    {
      "cell_type": "code",
      "execution_count": 28,
      "metadata": {
        "id": "pU2GwAUL2bEl"
      },
      "outputs": [],
      "source": [
        "oats = [45, 44, 68, 79]"
      ]
    },
    {
      "cell_type": "code",
      "execution_count": 29,
      "metadata": {
        "colab": {
          "base_uri": "https://localhost:8080/"
        },
        "id": "3hjzTVKF3GGh",
        "outputId": "cec81a47-0bbb-4e93-8a63-86dd05f5b6c0"
      },
      "outputs": [
        {
          "name": "stdout",
          "output_type": "stream",
          "text": [
            "45\n",
            "44\n",
            "68\n",
            "79\n"
          ]
        }
      ],
      "source": [
        "for i in oats:\n",
        "    print(i)"
      ]
    },
    {
      "cell_type": "code",
      "execution_count": 38,
      "metadata": {
        "id": "M7nT0wBi3JkX"
      },
      "outputs": [],
      "source": [
        "oat_twice = []\n",
        "\n",
        "for oat in oats:\n",
        "    oat_twice.append(2*oat)"
      ]
    },
    {
      "cell_type": "code",
      "execution_count": 39,
      "metadata": {
        "colab": {
          "base_uri": "https://localhost:8080/"
        },
        "id": "vSEX_Fsd31pa",
        "outputId": "ab4d65d2-2b11-4f0b-ff92-7cdbcc03c685"
      },
      "outputs": [
        {
          "name": "stdout",
          "output_type": "stream",
          "text": [
            "[90, 88, 136, 158]\n"
          ]
        }
      ],
      "source": [
        "print(oat_twice)"
      ]
    },
    {
      "cell_type": "code",
      "execution_count": 41,
      "metadata": {
        "id": "-bAWjgsA4xSO"
      },
      "outputs": [],
      "source": [
        "peas = [54, 64, 78, 99]"
      ]
    },
    {
      "cell_type": "code",
      "execution_count": 42,
      "metadata": {
        "id": "VzEXymEX33Zg"
      },
      "outputs": [],
      "source": [
        "pea_square = []\n",
        "\n",
        "for pea in peas:\n",
        "    pea_square.append(pea**2)"
      ]
    },
    {
      "cell_type": "code",
      "execution_count": 43,
      "metadata": {
        "colab": {
          "base_uri": "https://localhost:8080/"
        },
        "id": "OIvI6Lap5Ket",
        "outputId": "03a174c8-7261-41fc-c425-37c599c29450"
      },
      "outputs": [
        {
          "name": "stdout",
          "output_type": "stream",
          "text": [
            "[2916, 4096, 6084, 9801]\n"
          ]
        }
      ],
      "source": [
        "print(pea_square)"
      ]
    },
    {
      "cell_type": "markdown",
      "metadata": {
        "id": "IkE4kbxv6FFe"
      },
      "source": []
    },
    {
      "cell_type": "code",
      "execution_count": 44,
      "metadata": {
        "colab": {
          "base_uri": "https://localhost:8080/"
        },
        "id": "C7zyu0pe5NAc",
        "outputId": "5f65cd99-5282-433e-f2e2-6c0b8eab1e7a"
      },
      "outputs": [
        {
          "data": {
            "text/plain": [
              "[90, 88, 136, 158]"
            ]
          },
          "execution_count": 44,
          "metadata": {},
          "output_type": "execute_result"
        }
      ],
      "source": [
        "[2 * oat for oat in oats]"
      ]
    },
    {
      "cell_type": "code",
      "execution_count": 45,
      "metadata": {
        "colab": {
          "base_uri": "https://localhost:8080/"
        },
        "id": "2tUwpRYw5yNT",
        "outputId": "f6724ab2-ce44-415d-8f6d-941c168cddda"
      },
      "outputs": [
        {
          "data": {
            "text/plain": [
              "[2916, 4096, 6084, 9801]"
            ]
          },
          "execution_count": 45,
          "metadata": {},
          "output_type": "execute_result"
        }
      ],
      "source": [
        "[pea**2 for pea in peas]"
      ]
    },
    {
      "cell_type": "markdown",
      "metadata": {
        "id": "24QnYiJI8Wn_"
      },
      "source": [
        "## NumPy"
      ]
    },
    {
      "cell_type": "code",
      "execution_count": 1,
      "metadata": {
        "id": "g0OLUQ3I8Y4c"
      },
      "outputs": [],
      "source": [
        "import numpy as np"
      ]
    },
    {
      "cell_type": "code",
      "execution_count": 2,
      "metadata": {
        "id": "Kq1tpQ6g8ova"
      },
      "outputs": [],
      "source": [
        "array_1 = np.array([34,44,56])"
      ]
    },
    {
      "cell_type": "code",
      "execution_count": 3,
      "metadata": {
        "colab": {
          "base_uri": "https://localhost:8080/"
        },
        "id": "TshrkC-Q8yOT",
        "outputId": "dfa0131a-ecb4-4de6-cf76-6fbaeb6fdb8b"
      },
      "outputs": [
        {
          "data": {
            "text/plain": [
              "array([34, 44, 56])"
            ]
          },
          "execution_count": 3,
          "metadata": {},
          "output_type": "execute_result"
        }
      ],
      "source": [
        "array_1"
      ]
    },
    {
      "cell_type": "code",
      "execution_count": 4,
      "metadata": {
        "colab": {
          "base_uri": "https://localhost:8080/"
        },
        "id": "jj3G16NI80Bm",
        "outputId": "de3e05c0-cfdb-4230-febe-84e97c1ef375"
      },
      "outputs": [
        {
          "data": {
            "text/plain": [
              "numpy.ndarray"
            ]
          },
          "execution_count": 4,
          "metadata": {},
          "output_type": "execute_result"
        }
      ],
      "source": [
        "type(array_1)"
      ]
    },
    {
      "cell_type": "code",
      "execution_count": 5,
      "metadata": {
        "colab": {
          "base_uri": "https://localhost:8080/"
        },
        "id": "IwswnHLf83U4",
        "outputId": "2537d44c-f0a4-4a4f-ae2e-74a6f17fccec"
      },
      "outputs": [
        {
          "data": {
            "text/plain": [
              "(3,)"
            ]
          },
          "execution_count": 5,
          "metadata": {},
          "output_type": "execute_result"
        }
      ],
      "source": [
        "# Finding shape of array\n",
        "array_1.shape"
      ]
    },
    {
      "cell_type": "code",
      "execution_count": 6,
      "metadata": {
        "id": "eY0vCngV9HQJ"
      },
      "outputs": [],
      "source": [
        "array_2 = np.array([[45, 43, 56],\n",
        "                    [67, 65, 66]])"
      ]
    },
    {
      "cell_type": "code",
      "execution_count": 7,
      "metadata": {
        "colab": {
          "base_uri": "https://localhost:8080/"
        },
        "id": "X3Cg7XCF9gIc",
        "outputId": "3ba926f8-1af1-48a8-f981-3490a221b9cf"
      },
      "outputs": [
        {
          "data": {
            "text/plain": [
              "array([[45, 43, 56],\n",
              "       [67, 65, 66]])"
            ]
          },
          "execution_count": 7,
          "metadata": {},
          "output_type": "execute_result"
        }
      ],
      "source": [
        "array_2"
      ]
    },
    {
      "cell_type": "code",
      "execution_count": 9,
      "metadata": {
        "colab": {
          "base_uri": "https://localhost:8080/"
        },
        "id": "kBCTlJEo9hjA",
        "outputId": "cabb06b9-aaa0-4506-f5df-3cf8558e9114"
      },
      "outputs": [
        {
          "data": {
            "text/plain": [
              "(2, 3)"
            ]
          },
          "execution_count": 9,
          "metadata": {},
          "output_type": "execute_result"
        }
      ],
      "source": [
        "array_2.shape"
      ]
    },
    {
      "cell_type": "code",
      "execution_count": 24,
      "metadata": {
        "colab": {
          "base_uri": "https://localhost:8080/"
        },
        "id": "iWet40gj95zS",
        "outputId": "322e8403-0769-4014-cd0a-1493e28873b5"
      },
      "outputs": [
        {
          "data": {
            "text/plain": [
              "array([45, 43, 56, 67, 65, 66])"
            ]
          },
          "execution_count": 24,
          "metadata": {},
          "output_type": "execute_result"
        }
      ],
      "source": [
        "# reshape()\n",
        "array_2.reshape(6,)"
      ]
    },
    {
      "cell_type": "code",
      "execution_count": 17,
      "metadata": {
        "colab": {
          "base_uri": "https://localhost:8080/"
        },
        "id": "-rQTbNIG9kHd",
        "outputId": "0b8d4739-685a-4219-92a6-f515954e75ff"
      },
      "outputs": [
        {
          "data": {
            "text/plain": [
              "array([[0., 0., 0., 0.],\n",
              "       [0., 0., 0., 0.],\n",
              "       [0., 0., 0., 0.]])"
            ]
          },
          "execution_count": 17,
          "metadata": {},
          "output_type": "execute_result"
        }
      ],
      "source": [
        "# zeros()\n",
        "np.zeros([3,4])"
      ]
    },
    {
      "cell_type": "code",
      "execution_count": 19,
      "metadata": {
        "colab": {
          "base_uri": "https://localhost:8080/"
        },
        "id": "xsD6QIfUAJxn",
        "outputId": "5f623e87-85eb-4158-8b33-96ca59ef0e01"
      },
      "outputs": [
        {
          "data": {
            "text/plain": [
              "array([[0, 0, 0, 0],\n",
              "       [0, 0, 0, 0],\n",
              "       [0, 0, 0, 0]])"
            ]
          },
          "execution_count": 19,
          "metadata": {},
          "output_type": "execute_result"
        }
      ],
      "source": [
        "np.zeros( [3,4], dtype=int)"
      ]
    },
    {
      "cell_type": "code",
      "execution_count": 25,
      "metadata": {
        "colab": {
          "base_uri": "https://localhost:8080/"
        },
        "id": "L6Y0okzKAUxA",
        "outputId": "5b300610-3244-4f5d-e134-aec7a04956fe"
      },
      "outputs": [
        {
          "data": {
            "text/plain": [
              "array([[1., 1., 1., 1.],\n",
              "       [1., 1., 1., 1.],\n",
              "       [1., 1., 1., 1.]])"
            ]
          },
          "execution_count": 25,
          "metadata": {},
          "output_type": "execute_result"
        }
      ],
      "source": [
        "# ones\n",
        "np.ones([3,4])"
      ]
    },
    {
      "cell_type": "code",
      "execution_count": 23,
      "metadata": {
        "colab": {
          "base_uri": "https://localhost:8080/"
        },
        "id": "VE6o4b8jAet4",
        "outputId": "15b62ec7-8c64-47ac-9db0-01c16994d3da"
      },
      "outputs": [
        {
          "data": {
            "text/plain": [
              "array([[1, 1, 1, 1],\n",
              "       [1, 1, 1, 1],\n",
              "       [1, 1, 1, 1]])"
            ]
          },
          "execution_count": 23,
          "metadata": {},
          "output_type": "execute_result"
        }
      ],
      "source": [
        "np.ones([3,4], dtype=int)"
      ]
    },
    {
      "cell_type": "code",
      "execution_count": 28,
      "metadata": {
        "colab": {
          "base_uri": "https://localhost:8080/"
        },
        "id": "nI77GS-NAlR4",
        "outputId": "d7e5bc8e-0f37-4e8d-8255-0212b241dd80"
      },
      "outputs": [
        {
          "data": {
            "text/plain": [
              "array([0, 1, 2, 3, 4, 5, 6, 7, 8, 9])"
            ]
          },
          "execution_count": 28,
          "metadata": {},
          "output_type": "execute_result"
        }
      ],
      "source": [
        "# arange()\n",
        "np.arange(10)"
      ]
    },
    {
      "cell_type": "code",
      "execution_count": 30,
      "metadata": {
        "colab": {
          "base_uri": "https://localhost:8080/"
        },
        "id": "zAOXikb8BlL7",
        "outputId": "30a20833-73f8-4be9-c268-6759556becc3"
      },
      "outputs": [
        {
          "data": {
            "text/plain": [
              "array([0, 1, 2, 3, 4, 5, 6, 7, 8, 9])"
            ]
          },
          "execution_count": 30,
          "metadata": {},
          "output_type": "execute_result"
        }
      ],
      "source": [
        "np.arange(0,10)"
      ]
    },
    {
      "cell_type": "code",
      "execution_count": 31,
      "metadata": {
        "colab": {
          "base_uri": "https://localhost:8080/"
        },
        "id": "CleRtc8cBXqb",
        "outputId": "e290cb3f-0b80-4bac-b088-f0c3f2057c7e"
      },
      "outputs": [
        {
          "data": {
            "text/plain": [
              "array([0, 2, 4, 6, 8])"
            ]
          },
          "execution_count": 31,
          "metadata": {},
          "output_type": "execute_result"
        }
      ],
      "source": [
        "np.arange(0,10, 2)"
      ]
    },
    {
      "cell_type": "code",
      "execution_count": 32,
      "metadata": {
        "colab": {
          "base_uri": "https://localhost:8080/"
        },
        "id": "-3h9fZZ3BvyV",
        "outputId": "d6d70cac-ec4c-4f08-fd8f-59786f803dd0"
      },
      "outputs": [
        {
          "data": {
            "text/plain": [
              "array([1, 3, 5, 7, 9])"
            ]
          },
          "execution_count": 32,
          "metadata": {},
          "output_type": "execute_result"
        }
      ],
      "source": [
        "np.arange(1, 10, 2)"
      ]
    },
    {
      "cell_type": "code",
      "execution_count": 33,
      "metadata": {
        "colab": {
          "base_uri": "https://localhost:8080/"
        },
        "id": "SIvaEyteB2e8",
        "outputId": "96212e87-af0b-4c3e-a461-29b9f7b2c695"
      },
      "outputs": [
        {
          "data": {
            "text/plain": [
              "array([[45, 43, 56],\n",
              "       [67, 65, 66]])"
            ]
          },
          "execution_count": 33,
          "metadata": {},
          "output_type": "execute_result"
        }
      ],
      "source": [
        "# Indexing\n",
        "array_2"
      ]
    },
    {
      "cell_type": "code",
      "execution_count": 35,
      "metadata": {
        "colab": {
          "base_uri": "https://localhost:8080/"
        },
        "id": "RtL2dWoBCly_",
        "outputId": "deb558e7-2981-4942-b340-a14fac126748"
      },
      "outputs": [
        {
          "data": {
            "text/plain": [
              "array([45, 43, 56])"
            ]
          },
          "execution_count": 35,
          "metadata": {},
          "output_type": "execute_result"
        }
      ],
      "source": [
        "array_2[0]"
      ]
    },
    {
      "cell_type": "code",
      "execution_count": 36,
      "metadata": {
        "colab": {
          "base_uri": "https://localhost:8080/"
        },
        "id": "xUvF4fzoCqQh",
        "outputId": "758d565b-fb3f-45e8-89bb-f7a1447794e8"
      },
      "outputs": [
        {
          "data": {
            "text/plain": [
              "array([67, 65, 66])"
            ]
          },
          "execution_count": 36,
          "metadata": {},
          "output_type": "execute_result"
        }
      ],
      "source": [
        "array_2[1]"
      ]
    },
    {
      "cell_type": "code",
      "execution_count": 39,
      "metadata": {
        "colab": {
          "base_uri": "https://localhost:8080/"
        },
        "id": "ZW7RkYmsCu2x",
        "outputId": "d1cb41a8-d600-49b3-a04f-2eecea102ca9"
      },
      "outputs": [
        {
          "data": {
            "text/plain": [
              "array([[45, 43, 56],\n",
              "       [67, 65, 66]])"
            ]
          },
          "execution_count": 39,
          "metadata": {},
          "output_type": "execute_result"
        }
      ],
      "source": [
        "array_2[:]"
      ]
    },
    {
      "cell_type": "code",
      "execution_count": 40,
      "metadata": {
        "colab": {
          "base_uri": "https://localhost:8080/"
        },
        "id": "GHYnK_oIC1U8",
        "outputId": "b4d33cc1-ff29-49ed-dd72-703fb90b077b"
      },
      "outputs": [
        {
          "data": {
            "text/plain": [
              "45"
            ]
          },
          "execution_count": 40,
          "metadata": {},
          "output_type": "execute_result"
        }
      ],
      "source": [
        "array_2[0,0]"
      ]
    },
    {
      "cell_type": "code",
      "execution_count": 42,
      "metadata": {
        "colab": {
          "base_uri": "https://localhost:8080/"
        },
        "id": "G3qlYM6iDF4r",
        "outputId": "d4a72f75-c15c-4cd1-eb8a-92f088060f8d"
      },
      "outputs": [
        {
          "data": {
            "text/plain": [
              "43"
            ]
          },
          "execution_count": 42,
          "metadata": {},
          "output_type": "execute_result"
        }
      ],
      "source": [
        "array_2[0,1]"
      ]
    },
    {
      "cell_type": "code",
      "execution_count": 44,
      "metadata": {
        "colab": {
          "base_uri": "https://localhost:8080/"
        },
        "id": "TEGceYPmDMOp",
        "outputId": "7452acb1-f0d5-40e6-bc36-de0bdbfe91a7"
      },
      "outputs": [
        {
          "data": {
            "text/plain": [
              "65"
            ]
          },
          "execution_count": 44,
          "metadata": {},
          "output_type": "execute_result"
        }
      ],
      "source": [
        "array_2[1,1]"
      ]
    },
    {
      "cell_type": "code",
      "execution_count": 45,
      "metadata": {
        "colab": {
          "base_uri": "https://localhost:8080/"
        },
        "id": "PlKrHduNDSy_",
        "outputId": "8135632c-748e-4780-84ac-2a64fbd9b990"
      },
      "outputs": [
        {
          "data": {
            "text/plain": [
              "array([[ 90,  86, 112],\n",
              "       [134, 130, 132]])"
            ]
          },
          "execution_count": 45,
          "metadata": {},
          "output_type": "execute_result"
        }
      ],
      "source": [
        "# Math operations\n",
        "array_2 * 2"
      ]
    },
    {
      "cell_type": "code",
      "execution_count": 46,
      "metadata": {
        "colab": {
          "base_uri": "https://localhost:8080/"
        },
        "id": "EOqh0kt7D8v2",
        "outputId": "f01fb34b-feb6-4605-9a28-a7cfb3046c13"
      },
      "outputs": [
        {
          "data": {
            "text/plain": [
              "array([[25, 23, 36],\n",
              "       [47, 45, 46]])"
            ]
          },
          "execution_count": 46,
          "metadata": {},
          "output_type": "execute_result"
        }
      ],
      "source": [
        "array_2 - 20"
      ]
    },
    {
      "cell_type": "code",
      "execution_count": 47,
      "metadata": {
        "colab": {
          "base_uri": "https://localhost:8080/"
        },
        "id": "CsF3o5FrEA2o",
        "outputId": "f60d5606-9262-4c68-ddbe-825f2d86a6c3"
      },
      "outputs": [
        {
          "data": {
            "text/plain": [
              "array([[ 90,  88, 101],\n",
              "       [112, 110, 111]])"
            ]
          },
          "execution_count": 47,
          "metadata": {},
          "output_type": "execute_result"
        }
      ],
      "source": [
        "array_2 + 45"
      ]
    },
    {
      "cell_type": "code",
      "execution_count": 48,
      "metadata": {
        "colab": {
          "base_uri": "https://localhost:8080/"
        },
        "id": "BFKJ7PY7EHAZ",
        "outputId": "50f997fc-7fa4-41db-ff4d-8d58d2ad04b7"
      },
      "outputs": [
        {
          "data": {
            "text/plain": [
              "array([[1.95652174, 1.86956522, 2.43478261],\n",
              "       [2.91304348, 2.82608696, 2.86956522]])"
            ]
          },
          "execution_count": 48,
          "metadata": {},
          "output_type": "execute_result"
        }
      ],
      "source": [
        "array_2 / 23"
      ]
    },
    {
      "cell_type": "code",
      "execution_count": 50,
      "metadata": {
        "colab": {
          "base_uri": "https://localhost:8080/"
        },
        "id": "UHde1NzyELNm",
        "outputId": "47222e8a-f729-4adf-81db-23835baeafc8"
      },
      "outputs": [
        {
          "data": {
            "text/plain": [
              "array([[2025, 1849, 3136],\n",
              "       [4489, 4225, 4356]])"
            ]
          },
          "execution_count": 50,
          "metadata": {},
          "output_type": "execute_result"
        }
      ],
      "source": [
        "array_2 ** 2"
      ]
    },
    {
      "cell_type": "code",
      "execution_count": 54,
      "metadata": {
        "colab": {
          "base_uri": "https://localhost:8080/"
        },
        "id": "KVRUvBt6Es7i",
        "outputId": "acdf36d7-788a-4d11-c348-91e18c18608e"
      },
      "outputs": [
        {
          "data": {
            "text/plain": [
              "array([[45, 43, 56],\n",
              "       [67, 65, 66]])"
            ]
          },
          "execution_count": 54,
          "metadata": {},
          "output_type": "execute_result"
        }
      ],
      "source": [
        "array_2"
      ]
    },
    {
      "cell_type": "code",
      "execution_count": 53,
      "metadata": {
        "colab": {
          "base_uri": "https://localhost:8080/"
        },
        "id": "lo1F-pyyEc4o",
        "outputId": "5a05656e-5ccc-4764-a2c7-2f4709d5dc30"
      },
      "outputs": [
        {
          "data": {
            "text/plain": [
              "array([[False, False, False],\n",
              "       [ True,  True,  True]])"
            ]
          },
          "execution_count": 53,
          "metadata": {},
          "output_type": "execute_result"
        }
      ],
      "source": [
        "array_2 > 60"
      ]
    },
    {
      "cell_type": "code",
      "execution_count": 55,
      "metadata": {
        "colab": {
          "base_uri": "https://localhost:8080/"
        },
        "id": "4taJXURlEQGK",
        "outputId": "5c297692-0b3a-42ce-80da-f70755447f01"
      },
      "outputs": [
        {
          "data": {
            "text/plain": [
              "array([[ True,  True,  True],\n",
              "       [False, False, False]])"
            ]
          },
          "execution_count": 55,
          "metadata": {},
          "output_type": "execute_result"
        }
      ],
      "source": [
        "array_2 < 60"
      ]
    },
    {
      "cell_type": "code",
      "execution_count": 56,
      "metadata": {
        "colab": {
          "base_uri": "https://localhost:8080/"
        },
        "id": "7sUA7Ci1Ewpq",
        "outputId": "9e85f704-5c72-4894-8dc0-c80ba4c91c29"
      },
      "outputs": [
        {
          "data": {
            "text/plain": [
              "57.0"
            ]
          },
          "execution_count": 56,
          "metadata": {},
          "output_type": "execute_result"
        }
      ],
      "source": [
        "# Entire Matrix Agg\n",
        "# Mean\n",
        "np.mean(array_2)"
      ]
    },
    {
      "cell_type": "code",
      "execution_count": 57,
      "metadata": {
        "colab": {
          "base_uri": "https://localhost:8080/"
        },
        "id": "zMTIxw02FKZm",
        "outputId": "90ace0cb-9e57-4cd7-c85e-9273a1dcc457"
      },
      "outputs": [
        {
          "data": {
            "text/plain": [
              "9.882644720249063"
            ]
          },
          "execution_count": 57,
          "metadata": {},
          "output_type": "execute_result"
        }
      ],
      "source": [
        "# Standard Deviation\n",
        "np.std(array_2)"
      ]
    },
    {
      "cell_type": "code",
      "execution_count": 58,
      "metadata": {
        "colab": {
          "base_uri": "https://localhost:8080/"
        },
        "id": "wX2_LIxcFTRg",
        "outputId": "05374e2b-8304-48a4-efb6-665606811528"
      },
      "outputs": [
        {
          "data": {
            "text/plain": [
              "97.66666666666667"
            ]
          },
          "execution_count": 58,
          "metadata": {},
          "output_type": "execute_result"
        }
      ],
      "source": [
        "# Variance\n",
        "np.var(array_2)"
      ]
    },
    {
      "cell_type": "code",
      "execution_count": 61,
      "metadata": {
        "colab": {
          "base_uri": "https://localhost:8080/"
        },
        "id": "61BKNmMQFXAx",
        "outputId": "83ff6329-3647-463f-b752-9945e09a2245"
      },
      "outputs": [
        {
          "data": {
            "text/plain": [
              "60.5"
            ]
          },
          "execution_count": 61,
          "metadata": {},
          "output_type": "execute_result"
        }
      ],
      "source": [
        "# Median\n",
        "np.median(array_2)"
      ]
    },
    {
      "cell_type": "code",
      "execution_count": 65,
      "metadata": {
        "colab": {
          "base_uri": "https://localhost:8080/"
        },
        "id": "J_wO2oOhFvlc",
        "outputId": "aa1a7410-4c29-468b-de8f-271f874da0c4"
      },
      "outputs": [
        {
          "data": {
            "text/plain": [
              "array([48., 66.])"
            ]
          },
          "execution_count": 65,
          "metadata": {},
          "output_type": "execute_result"
        }
      ],
      "source": [
        "# Rows Agg\n",
        "# Mean\n",
        "np.mean(array_2, axis=1)"
      ]
    },
    {
      "cell_type": "code",
      "execution_count": 73,
      "metadata": {
        "colab": {
          "base_uri": "https://localhost:8080/"
        },
        "id": "czwcN12xGQXW",
        "outputId": "24d24fac-1bd9-440b-8ebd-d32484836a5e"
      },
      "outputs": [
        {
          "data": {
            "text/plain": [
              "array([56., 54., 61.])"
            ]
          },
          "execution_count": 73,
          "metadata": {},
          "output_type": "execute_result"
        }
      ],
      "source": [
        "# Columns Agg\n",
        "# Mean\n",
        "np.mean(array_2, axis=0)"
      ]
    }
  ],
  "metadata": {
    "colab": {
      "provenance": []
    },
    "kernelspec": {
      "display_name": "Python 3",
      "language": "python",
      "name": "python3"
    },
    "language_info": {
      "codemirror_mode": {
        "name": "ipython",
        "version": 3
      },
      "file_extension": ".py",
      "mimetype": "text/x-python",
      "name": "python",
      "nbconvert_exporter": "python",
      "pygments_lexer": "ipython3",
      "version": "3.11.0 (main, Oct 24 2022, 18:26:48) [MSC v.1933 64 bit (AMD64)]"
    },
    "vscode": {
      "interpreter": {
        "hash": "c261aea317cc0286b3b3261fbba9abdec21eaa57589985bb7a274bf54d6cc0a7"
      }
    }
  },
  "nbformat": 4,
  "nbformat_minor": 0
}
