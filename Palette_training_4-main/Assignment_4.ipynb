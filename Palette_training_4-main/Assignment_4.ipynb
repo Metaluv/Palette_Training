{
  "cells": [
    {
      "cell_type": "markdown",
      "metadata": {
        "id": "xRFQJjmAgPPv"
      },
      "source": [
        "# Assignment 4"
      ]
    },
    {
      "cell_type": "markdown",
      "metadata": {
        "id": "eLY9HOokgoNX"
      },
      "source": [
        "\n",
        "Please do not change, delete or edit any cells. Write your code in between designated lines."
      ]
    },
    {
      "cell_type": "markdown",
      "metadata": {
        "id": "0iiZnyE_hHm4"
      },
      "source": [
        "## Question 1 (25 points)"
      ]
    },
    {
      "cell_type": "code",
      "execution_count": 1,
      "metadata": {
        "id": "jwfycLiWgVa0"
      },
      "outputs": [],
      "source": [
        "# Please go to Palette_training_4 GitHub repo and \n",
        "# 1. Read Sask_RM_data.csv.\n",
        "# 2. Rename column namse Crop Year, Canola - bu/ac, Spring Wheat - bu/ac with\n",
        "# Year, Canola, SpringWheat respectively.\n",
        "\n",
        "import pandas as pd\n",
        "import numpy as np\n",
        "import matplotlib.pyplot as plt\n",
        "import seaborn as sns\n",
        "import geopandas as gpd"
      ]
    },
    {
      "cell_type": "code",
      "execution_count": 2,
      "metadata": {
        "id": "1SX-x2rqkvbV"
      },
      "outputs": [],
      "source": [
        "# 1. Read csv file by using pandas \n",
        "\n",
        "## Your code here - down ##\n",
        "df = pd.read_csv('Sask_RM_data.csv')\n",
        "## Your code here - up ##"
      ]
    },
    {
      "cell_type": "code",
      "execution_count": 3,
      "metadata": {},
      "outputs": [
        {
          "data": {
            "text/plain": [
              "Index(['Crop Year', 'RM', 'Canola - bu/ac', 'Spring Wheat - bu/ac'], dtype='object')"
            ]
          },
          "execution_count": 3,
          "metadata": {},
          "output_type": "execute_result"
        }
      ],
      "source": [
        "df.columns"
      ]
    },
    {
      "cell_type": "code",
      "execution_count": 4,
      "metadata": {},
      "outputs": [
        {
          "data": {
            "text/html": [
              "<div>\n",
              "<style scoped>\n",
              "    .dataframe tbody tr th:only-of-type {\n",
              "        vertical-align: middle;\n",
              "    }\n",
              "\n",
              "    .dataframe tbody tr th {\n",
              "        vertical-align: top;\n",
              "    }\n",
              "\n",
              "    .dataframe thead th {\n",
              "        text-align: right;\n",
              "    }\n",
              "</style>\n",
              "<table border=\"1\" class=\"dataframe\">\n",
              "  <thead>\n",
              "    <tr style=\"text-align: right;\">\n",
              "      <th></th>\n",
              "      <th>Crop Year</th>\n",
              "      <th>RM</th>\n",
              "      <th>Canola - bu/ac</th>\n",
              "      <th>Spring Wheat - bu/ac</th>\n",
              "    </tr>\n",
              "  </thead>\n",
              "  <tbody>\n",
              "    <tr>\n",
              "      <th>0</th>\n",
              "      <td>2012</td>\n",
              "      <td>1</td>\n",
              "      <td>22.3</td>\n",
              "      <td>36.2</td>\n",
              "    </tr>\n",
              "    <tr>\n",
              "      <th>1</th>\n",
              "      <td>2012</td>\n",
              "      <td>2</td>\n",
              "      <td>28.6</td>\n",
              "      <td>37.2</td>\n",
              "    </tr>\n",
              "    <tr>\n",
              "      <th>2</th>\n",
              "      <td>2012</td>\n",
              "      <td>3</td>\n",
              "      <td>25.1</td>\n",
              "      <td>39.4</td>\n",
              "    </tr>\n",
              "    <tr>\n",
              "      <th>3</th>\n",
              "      <td>2012</td>\n",
              "      <td>4</td>\n",
              "      <td>21.6</td>\n",
              "      <td>31.6</td>\n",
              "    </tr>\n",
              "    <tr>\n",
              "      <th>4</th>\n",
              "      <td>2012</td>\n",
              "      <td>5</td>\n",
              "      <td>26.8</td>\n",
              "      <td>29.0</td>\n",
              "    </tr>\n",
              "  </tbody>\n",
              "</table>\n",
              "</div>"
            ],
            "text/plain": [
              "   Crop Year  RM  Canola - bu/ac  Spring Wheat - bu/ac\n",
              "0       2012   1            22.3                  36.2\n",
              "1       2012   2            28.6                  37.2\n",
              "2       2012   3            25.1                  39.4\n",
              "3       2012   4            21.6                  31.6\n",
              "4       2012   5            26.8                  29.0"
            ]
          },
          "execution_count": 4,
          "metadata": {},
          "output_type": "execute_result"
        }
      ],
      "source": [
        "df.head()"
      ]
    },
    {
      "cell_type": "code",
      "execution_count": 5,
      "metadata": {},
      "outputs": [
        {
          "name": "stdout",
          "output_type": "stream",
          "text": [
            "<class 'pandas.core.frame.DataFrame'>\n",
            "RangeIndex: 2950 entries, 0 to 2949\n",
            "Data columns (total 4 columns):\n",
            " #   Column                Non-Null Count  Dtype  \n",
            "---  ------                --------------  -----  \n",
            " 0   Crop Year             2950 non-null   int64  \n",
            " 1   RM                    2950 non-null   int64  \n",
            " 2   Canola - bu/ac        2905 non-null   float64\n",
            " 3   Spring Wheat - bu/ac  2899 non-null   float64\n",
            "dtypes: float64(2), int64(2)\n",
            "memory usage: 92.3 KB\n"
          ]
        }
      ],
      "source": [
        "df.info()"
      ]
    },
    {
      "cell_type": "code",
      "execution_count": 11,
      "metadata": {
        "id": "cdGqn-qvksVg"
      },
      "outputs": [],
      "source": [
        "# 2. Rename columns\n",
        "\n",
        "## Your code here - down ##\n",
        "df.rename(columns={'Crop Year':'Year', 'Canola - bu/ac':'Canola', 'Spring Wheat - bu/ac':'SpringWheat'}, inplace=True)\n",
        "## Your code here - up ##"
      ]
    },
    {
      "cell_type": "markdown",
      "metadata": {
        "id": "CVL1VhWNj06v"
      },
      "source": [
        "Question 2 (65 points)"
      ]
    },
    {
      "cell_type": "code",
      "execution_count": 6,
      "metadata": {
        "id": "obXacM3uiCcE"
      },
      "outputs": [
        {
          "data": {
            "text/plain": [
              "Crop Year                0\n",
              "RM                       0\n",
              "Canola - bu/ac          45\n",
              "Spring Wheat - bu/ac    51\n",
              "dtype: int64"
            ]
          },
          "execution_count": 6,
          "metadata": {},
          "output_type": "execute_result"
        }
      ],
      "source": [
        "# 1. How many missing values in each column? \n",
        "\n",
        "## Your code here - down ##\n",
        "df.isna().sum()\n",
        "## Your code here - up ##"
      ]
    },
    {
      "cell_type": "code",
      "execution_count": 7,
      "metadata": {
        "id": "wNZcRd9bkhTS"
      },
      "outputs": [
        {
          "data": {
            "text/plain": [
              "array([  1,   2,   3,   4,   5,   6,   7,   8,   9,  10,  11,  12,  17,\n",
              "        18,  19,  31,  32,  33,  34,  35,  36,  37,  38,  39,  40,  42,\n",
              "        43,  44,  45,  46,  49,  51,  61,  63,  64,  65,  66,  67,  68,\n",
              "        69,  70,  71,  72,  73,  74,  75,  76,  77,  78,  79,  91,  92,\n",
              "        93,  94,  95,  96,  97,  98,  99, 100, 101, 102, 103, 104, 105,\n",
              "       106, 107, 108, 109, 110, 111, 121, 122, 123, 124, 125, 126, 127,\n",
              "       128, 129, 130, 131, 132, 133, 134, 135, 136, 137, 138, 139, 141,\n",
              "       142, 151, 152, 153, 154, 155, 156, 157, 158, 159, 160, 161, 162,\n",
              "       163, 164, 165, 166, 167, 168, 169, 171, 181, 183, 184, 185, 186,\n",
              "       187, 189, 190, 191, 193, 194, 211, 213, 214, 215, 216, 217, 218,\n",
              "       219, 220, 221, 222, 223, 224, 225, 226, 228, 229, 230, 231, 232,\n",
              "       241, 243, 244, 245, 246, 247, 248, 250, 251, 252, 253, 254, 255,\n",
              "       256, 257, 259, 260, 261, 271, 273, 274, 275, 276, 277, 279, 280,\n",
              "       281, 282, 283, 284, 285, 286, 287, 288, 290, 292, 301, 303, 304,\n",
              "       305, 307, 308, 309, 310, 312, 313, 314, 315, 316, 317, 318, 319,\n",
              "       320, 321, 322, 331, 333, 334, 335, 336, 337, 338, 339, 340, 341,\n",
              "       342, 343, 344, 345, 346, 347, 349, 350, 351, 352, 366, 367, 368,\n",
              "       369, 370, 371, 372, 373, 376, 377, 378, 379, 380, 381, 382, 394,\n",
              "       395, 397, 398, 399, 400, 401, 402, 403, 404, 405, 406, 409, 410,\n",
              "       411, 426, 427, 428, 429, 430, 431, 434, 435, 436, 437, 438, 439,\n",
              "       440, 442, 456, 457, 458, 459, 460, 461, 463, 464, 466, 467, 468,\n",
              "       469, 470, 471, 472, 486, 487, 488, 490, 491, 493, 494, 496, 497,\n",
              "       498, 499, 501, 502, 520, 555, 561, 588, 622], dtype=int64)"
            ]
          },
          "execution_count": 7,
          "metadata": {},
          "output_type": "execute_result"
        }
      ],
      "source": [
        "# 2. Find unique values of RMs(Rural Municipalities).\n",
        "\n",
        "## Your code here - down ##\n",
        "df['RM'].unique()\n",
        "## Your code here - up ##"
      ]
    },
    {
      "cell_type": "code",
      "execution_count": 12,
      "metadata": {
        "id": "X-7AiMCZkiji"
      },
      "outputs": [
        {
          "data": {
            "text/plain": [
              "RM\n",
              "271    45.284\n",
              "470    45.018\n",
              "439    44.116\n",
              "303    43.624\n",
              "338    42.881\n",
              "493    42.819\n",
              "440    42.747\n",
              "464    42.515\n",
              "410    42.223\n",
              "434    41.868\n",
              "Name: Canola, dtype: float64"
            ]
          },
          "execution_count": 12,
          "metadata": {},
          "output_type": "execute_result"
        }
      ],
      "source": [
        "# 3. Use groupby() and find top 10 RMs in terms of average Canola yield through 10 years.\n",
        "\n",
        "## Your code here - down ##\n",
        "df.groupby('RM')['Canola'].mean().sort_values(ascending=False).head(10)\n",
        "## Your code here - up ##"
      ]
    },
    {
      "cell_type": "code",
      "execution_count": null,
      "metadata": {
        "id": "JqIEftfSmJha"
      },
      "outputs": [],
      "source": [
        "# 4. Use groupby() function and find worst 10 RMs in terms of average Spring Wheat through 10 years.\n",
        "\n",
        "## Your code here - down ##\n",
        "\n",
        "## Your code here - up ##"
      ]
    },
    {
      "cell_type": "code",
      "execution_count": null,
      "metadata": {
        "id": "_u735AcFmyKX"
      },
      "outputs": [],
      "source": [
        "# 4. Use groupby() function and find worst 3 best years in terms of average Spring Wheat.\n",
        "\n",
        "## Your code here - down ##\n",
        "\n",
        "## Your code here - up ##"
      ]
    },
    {
      "cell_type": "code",
      "execution_count": null,
      "metadata": {
        "id": "VIeb0E0SmSYf"
      },
      "outputs": [],
      "source": [
        "# 5. Use groupby() function and find worst 3 years in terms of average Spring Wheat through 10 years.\n",
        "\n",
        "## Your code here - down ##\n",
        "\n",
        "## Your code here - up ##"
      ]
    },
    {
      "cell_type": "markdown",
      "metadata": {
        "id": "jmsH1mGWpu3L"
      },
      "source": [
        "## Question 3 (10 points)"
      ]
    },
    {
      "cell_type": "markdown",
      "metadata": {
        "id": "U6OG5ANHp39Y"
      },
      "source": [
        "This task is independent exploratory data analysis. Find key insights from the dataset and share your code by creating new cells."
      ]
    }
  ],
  "metadata": {
    "colab": {
      "provenance": []
    },
    "kernelspec": {
      "display_name": "base",
      "language": "python",
      "name": "python3"
    },
    "language_info": {
      "codemirror_mode": {
        "name": "ipython",
        "version": 3
      },
      "file_extension": ".py",
      "mimetype": "text/x-python",
      "name": "python",
      "nbconvert_exporter": "python",
      "pygments_lexer": "ipython3",
      "version": "3.9.13"
    },
    "vscode": {
      "interpreter": {
        "hash": "5e820f3ddc028a719ffe50e7d80dd01658ce1fe998d4f6f388d9b09d11d3d164"
      }
    }
  },
  "nbformat": 4,
  "nbformat_minor": 0
}
