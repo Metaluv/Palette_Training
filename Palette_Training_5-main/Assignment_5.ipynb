{
 "cells": [
  {
   "attachments": {},
   "cell_type": "markdown",
   "metadata": {},
   "source": [
    "![alt text](PaletteSkills_Banner.png \"Banner\")\n",
    "# Assignment 5\n",
    "\n",
    "### Objective\n",
    "The objective of this assignment is to analyze the Rural Municipality Yield Data from 1938 to 2021 and identify any trends, patterns or insights that can be derived from the data. This assignment is designed to provide students with hands-on experience in data science, including data cleaning, exploration, visualization, feature selection an machine learning model deployment.\n",
    "\n",
    "### Data:\n",
    "\n",
    "1. **Yield Data**\n",
    "The Rural Municipality Yield Data Contains the yield data for crops grown in rural municipalities from 1938 to 2021. The data includes the following fields:\n",
    "\n",
    "- **Year:** The year for which the yield data was collected.\n",
    "- **Municipality:** The name of the rural municipality. \n",
    "- **Crops:** The type of crops grown.\n",
    "- **Yield (bu/acre):** The yield of the crop in kilograms per hectare.\n",
    "\n",
    "2. **GIS Data**\n",
    "\n",
    "- **Clean and prepare the data.** This may include removing missing values, handling outliers, and transforming the data if necessary.\n",
    "\n",
    "- **Explore the data** by generating summary statistics, creating visualizations, and identifying trends, patterns, and outliers.\n",
    "\n",
    "- **Perform statistical analysis** on the data, such as regression analysis and supervised or unsupervised ML (One Supervised and One Unsupervised Required) to understand the relationship between different variables and the yield of crops.\n",
    "\n",
    "- **Develop insights and conclusions based** on your analysis.For example, you\n",
    "might identify which crops have the highest yields, which rural municipalities\n",
    "have the most productive farmland, or which years had the best yields overall.\n",
    "\n"
   ]
  },
  {
   "cell_type": "code",
   "execution_count": 5,
   "metadata": {},
   "outputs": [],
   "source": [
    "import pandas as pd # Library for data handling\n",
    "import numpy as np # matrix operations\n",
    "import geopandas as gpd\n",
    "import matplotlib.pyplot as plt\n",
    "import seaborn as sb\n",
    "plt.rcParams['figure.figsize'] = (20, 12)"
   ]
  },
  {
   "cell_type": "code",
   "execution_count": null,
   "metadata": {},
   "outputs": [],
   "source": []
  }
 ],
 "metadata": {
  "kernelspec": {
   "display_name": "base",
   "language": "python",
   "name": "python3"
  },
  "language_info": {
   "codemirror_mode": {
    "name": "ipython",
    "version": 3
   },
   "file_extension": ".py",
   "mimetype": "text/x-python",
   "name": "python",
   "nbconvert_exporter": "python",
   "pygments_lexer": "ipython3",
   "version": "3.9.13"
  },
  "orig_nbformat": 4,
  "vscode": {
   "interpreter": {
    "hash": "5e820f3ddc028a719ffe50e7d80dd01658ce1fe998d4f6f388d9b09d11d3d164"
   }
  }
 },
 "nbformat": 4,
 "nbformat_minor": 2
}
