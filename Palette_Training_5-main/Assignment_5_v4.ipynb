{
 "cells": [
  {
   "cell_type": "code",
   "execution_count": 8,
   "metadata": {},
   "outputs": [
    {
     "name": "stderr",
     "output_type": "stream",
     "text": [
      "c:\\Users\\jason\\anaconda3\\envs\\playground\\lib\\site-packages\\tqdm\\auto.py:21: TqdmWarning: IProgress not found. Please update jupyter and ipywidgets. See https://ipywidgets.readthedocs.io/en/stable/user_install.html\n",
      "  from .autonotebook import tqdm as notebook_tqdm\n"
     ]
    }
   ],
   "source": [
    "import pandas as pd\n",
    "import numpy as np\n",
    "from prophet import Prophet\n"
   ]
  },
  {
   "cell_type": "code",
   "execution_count": 9,
   "metadata": {},
   "outputs": [],
   "source": [
    "\n",
    "# Load your dataset\n",
    "data = pd.read_csv(\"data/rm-yields-data.csv\")"
   ]
  },
  {
   "cell_type": "code",
   "execution_count": 11,
   "metadata": {},
   "outputs": [
    {
     "name": "stderr",
     "output_type": "stream",
     "text": [
      "13:22:24 - cmdstanpy - INFO - Chain [1] start processing\n"
     ]
    },
    {
     "name": "stdout",
     "output_type": "stream",
     "text": [
      "Predicting Winter Wheat...\n"
     ]
    },
    {
     "name": "stderr",
     "output_type": "stream",
     "text": [
      "13:22:25 - cmdstanpy - INFO - Chain [1] done processing\n",
      "C:\\Users\\jason\\AppData\\Local\\Temp\\ipykernel_4336\\105464961.py:17: FutureWarning: Argument `closed` is deprecated in favor of `inclusive`.\n",
      "  future_years = pd.DataFrame({'ds': pd.date_range(start='2022', end='2027', freq='Y', closed='right')})\n"
     ]
    },
    {
     "name": "stdout",
     "output_type": "stream",
     "text": [
      "Predicting Canola...\n"
     ]
    },
    {
     "name": "stderr",
     "output_type": "stream",
     "text": [
      "13:22:26 - cmdstanpy - INFO - Chain [1] start processing\n",
      "13:22:30 - cmdstanpy - INFO - Chain [1] done processing\n",
      "C:\\Users\\jason\\AppData\\Local\\Temp\\ipykernel_4336\\105464961.py:17: FutureWarning: Argument `closed` is deprecated in favor of `inclusive`.\n",
      "  future_years = pd.DataFrame({'ds': pd.date_range(start='2022', end='2027', freq='Y', closed='right')})\n"
     ]
    },
    {
     "name": "stdout",
     "output_type": "stream",
     "text": [
      "Predicting Spring Wheat...\n"
     ]
    },
    {
     "name": "stderr",
     "output_type": "stream",
     "text": [
      "13:22:32 - cmdstanpy - INFO - Chain [1] start processing\n",
      "13:22:44 - cmdstanpy - INFO - Chain [1] done processing\n",
      "C:\\Users\\jason\\AppData\\Local\\Temp\\ipykernel_4336\\105464961.py:17: FutureWarning: Argument `closed` is deprecated in favor of `inclusive`.\n",
      "  future_years = pd.DataFrame({'ds': pd.date_range(start='2022', end='2027', freq='Y', closed='right')})\n",
      "13:22:48 - cmdstanpy - INFO - Chain [1] start processing\n"
     ]
    },
    {
     "name": "stdout",
     "output_type": "stream",
     "text": [
      "Predicting Mustard...\n"
     ]
    },
    {
     "name": "stderr",
     "output_type": "stream",
     "text": [
      "13:22:48 - cmdstanpy - INFO - Chain [1] done processing\n",
      "C:\\Users\\jason\\AppData\\Local\\Temp\\ipykernel_4336\\105464961.py:17: FutureWarning: Argument `closed` is deprecated in favor of `inclusive`.\n",
      "  future_years = pd.DataFrame({'ds': pd.date_range(start='2022', end='2027', freq='Y', closed='right')})\n"
     ]
    },
    {
     "name": "stdout",
     "output_type": "stream",
     "text": [
      "Predicting Durum...\n"
     ]
    },
    {
     "name": "stderr",
     "output_type": "stream",
     "text": [
      "13:22:49 - cmdstanpy - INFO - Chain [1] start processing\n",
      "13:22:53 - cmdstanpy - INFO - Chain [1] done processing\n",
      "C:\\Users\\jason\\AppData\\Local\\Temp\\ipykernel_4336\\105464961.py:17: FutureWarning: Argument `closed` is deprecated in favor of `inclusive`.\n",
      "  future_years = pd.DataFrame({'ds': pd.date_range(start='2022', end='2027', freq='Y', closed='right')})\n",
      "13:22:55 - cmdstanpy - INFO - Chain [1] start processing\n",
      "13:22:55 - cmdstanpy - INFO - Chain [1] done processing\n"
     ]
    },
    {
     "name": "stdout",
     "output_type": "stream",
     "text": [
      "Predicting Sunflowers...\n"
     ]
    },
    {
     "name": "stderr",
     "output_type": "stream",
     "text": [
      "C:\\Users\\jason\\AppData\\Local\\Temp\\ipykernel_4336\\105464961.py:17: FutureWarning: Argument `closed` is deprecated in favor of `inclusive`.\n",
      "  future_years = pd.DataFrame({'ds': pd.date_range(start='2022', end='2027', freq='Y', closed='right')})\n"
     ]
    },
    {
     "name": "stdout",
     "output_type": "stream",
     "text": [
      "Predicting Oats...\n"
     ]
    },
    {
     "name": "stderr",
     "output_type": "stream",
     "text": [
      "13:22:55 - cmdstanpy - INFO - Chain [1] start processing\n",
      "13:23:05 - cmdstanpy - INFO - Chain [1] done processing\n",
      "C:\\Users\\jason\\AppData\\Local\\Temp\\ipykernel_4336\\105464961.py:17: FutureWarning: Argument `closed` is deprecated in favor of `inclusive`.\n",
      "  future_years = pd.DataFrame({'ds': pd.date_range(start='2022', end='2027', freq='Y', closed='right')})\n"
     ]
    },
    {
     "name": "stdout",
     "output_type": "stream",
     "text": [
      "Predicting Lentils...\n"
     ]
    },
    {
     "name": "stderr",
     "output_type": "stream",
     "text": [
      "13:23:09 - cmdstanpy - INFO - Chain [1] start processing\n",
      "13:23:09 - cmdstanpy - INFO - Chain [1] done processing\n",
      "C:\\Users\\jason\\AppData\\Local\\Temp\\ipykernel_4336\\105464961.py:17: FutureWarning: Argument `closed` is deprecated in favor of `inclusive`.\n",
      "  future_years = pd.DataFrame({'ds': pd.date_range(start='2022', end='2027', freq='Y', closed='right')})\n"
     ]
    },
    {
     "name": "stdout",
     "output_type": "stream",
     "text": [
      "Predicting Peas...\n"
     ]
    },
    {
     "name": "stderr",
     "output_type": "stream",
     "text": [
      "13:23:10 - cmdstanpy - INFO - Chain [1] start processing\n",
      "13:23:13 - cmdstanpy - INFO - Chain [1] done processing\n",
      "C:\\Users\\jason\\AppData\\Local\\Temp\\ipykernel_4336\\105464961.py:17: FutureWarning: Argument `closed` is deprecated in favor of `inclusive`.\n",
      "  future_years = pd.DataFrame({'ds': pd.date_range(start='2022', end='2027', freq='Y', closed='right')})\n"
     ]
    },
    {
     "name": "stdout",
     "output_type": "stream",
     "text": [
      "Predicting Barley...\n"
     ]
    },
    {
     "name": "stderr",
     "output_type": "stream",
     "text": [
      "13:23:15 - cmdstanpy - INFO - Chain [1] start processing\n",
      "13:23:24 - cmdstanpy - INFO - Chain [1] done processing\n",
      "C:\\Users\\jason\\AppData\\Local\\Temp\\ipykernel_4336\\105464961.py:17: FutureWarning: Argument `closed` is deprecated in favor of `inclusive`.\n",
      "  future_years = pd.DataFrame({'ds': pd.date_range(start='2022', end='2027', freq='Y', closed='right')})\n"
     ]
    },
    {
     "name": "stdout",
     "output_type": "stream",
     "text": [
      "Predicting Fall Rye...\n"
     ]
    },
    {
     "name": "stderr",
     "output_type": "stream",
     "text": [
      "13:23:28 - cmdstanpy - INFO - Chain [1] start processing\n",
      "13:23:37 - cmdstanpy - INFO - Chain [1] done processing\n",
      "C:\\Users\\jason\\AppData\\Local\\Temp\\ipykernel_4336\\105464961.py:17: FutureWarning: Argument `closed` is deprecated in favor of `inclusive`.\n",
      "  future_years = pd.DataFrame({'ds': pd.date_range(start='2022', end='2027', freq='Y', closed='right')})\n",
      "13:23:40 - cmdstanpy - INFO - Chain [1] start processing\n"
     ]
    },
    {
     "name": "stdout",
     "output_type": "stream",
     "text": [
      "Predicting Canary Seed...\n"
     ]
    },
    {
     "name": "stderr",
     "output_type": "stream",
     "text": [
      "13:23:40 - cmdstanpy - INFO - Chain [1] done processing\n",
      "C:\\Users\\jason\\AppData\\Local\\Temp\\ipykernel_4336\\105464961.py:17: FutureWarning: Argument `closed` is deprecated in favor of `inclusive`.\n",
      "  future_years = pd.DataFrame({'ds': pd.date_range(start='2022', end='2027', freq='Y', closed='right')})\n",
      "13:23:41 - cmdstanpy - INFO - Chain [1] start processing\n",
      "13:23:41 - cmdstanpy - INFO - Chain [1] done processing\n"
     ]
    },
    {
     "name": "stdout",
     "output_type": "stream",
     "text": [
      "Predicting Spring Rye...\n"
     ]
    },
    {
     "name": "stderr",
     "output_type": "stream",
     "text": [
      "C:\\Users\\jason\\AppData\\Local\\Temp\\ipykernel_4336\\105464961.py:17: FutureWarning: Argument `closed` is deprecated in favor of `inclusive`.\n",
      "  future_years = pd.DataFrame({'ds': pd.date_range(start='2022', end='2027', freq='Y', closed='right')})\n",
      "13:23:41 - cmdstanpy - INFO - Chain [1] start processing\n"
     ]
    },
    {
     "name": "stdout",
     "output_type": "stream",
     "text": [
      "Predicting Tame Hay...\n"
     ]
    },
    {
     "name": "stderr",
     "output_type": "stream",
     "text": [
      "13:23:42 - cmdstanpy - INFO - Chain [1] done processing\n",
      "C:\\Users\\jason\\AppData\\Local\\Temp\\ipykernel_4336\\105464961.py:17: FutureWarning: Argument `closed` is deprecated in favor of `inclusive`.\n",
      "  future_years = pd.DataFrame({'ds': pd.date_range(start='2022', end='2027', freq='Y', closed='right')})\n"
     ]
    },
    {
     "name": "stdout",
     "output_type": "stream",
     "text": [
      "Predicting Flax...\n"
     ]
    },
    {
     "name": "stderr",
     "output_type": "stream",
     "text": [
      "13:23:43 - cmdstanpy - INFO - Chain [1] start processing\n",
      "13:23:56 - cmdstanpy - INFO - Chain [1] done processing\n",
      "C:\\Users\\jason\\AppData\\Local\\Temp\\ipykernel_4336\\105464961.py:17: FutureWarning: Argument `closed` is deprecated in favor of `inclusive`.\n",
      "  future_years = pd.DataFrame({'ds': pd.date_range(start='2022', end='2027', freq='Y', closed='right')})\n",
      "13:23:59 - cmdstanpy - INFO - Chain [1] start processing\n"
     ]
    },
    {
     "name": "stdout",
     "output_type": "stream",
     "text": [
      "Predicting Chickpeas...\n"
     ]
    },
    {
     "name": "stderr",
     "output_type": "stream",
     "text": [
      "13:23:59 - cmdstanpy - INFO - Chain [1] done processing\n",
      "C:\\Users\\jason\\AppData\\Local\\Temp\\ipykernel_4336\\105464961.py:17: FutureWarning: Argument `closed` is deprecated in favor of `inclusive`.\n",
      "  future_years = pd.DataFrame({'ds': pd.date_range(start='2022', end='2027', freq='Y', closed='right')})\n"
     ]
    }
   ],
   "source": [
    "\n",
    "\n",
    "# Prepare the dataset for Prophet\n",
    "def prepare_data(column_name):\n",
    "    df = data[['Year', 'RM', column_name]].dropna()\n",
    "    df = df.rename(columns={'Year': 'ds', column_name: 'y'})\n",
    "    return df\n",
    "\n",
    "def train_and_predict(column_name):\n",
    "    df = prepare_data(column_name)\n",
    "    model = Prophet()\n",
    "    \n",
    "    # Add the RM data as an additional regressor\n",
    "    model.add_regressor('RM')\n",
    "    \n",
    "    model.fit(df)\n",
    "    \n",
    "    # Create future dataframe with RM data\n",
    "    future_years = pd.DataFrame({'ds': pd.date_range(start='2022', end='2027', freq='Y', closed='right')})\n",
    "    future_RM = data[['Year', 'RM']].drop_duplicates().tail(5)\n",
    "    future_RM['Year'] = pd.to_datetime(future_RM['Year'].astype(str), format='%Y')\n",
    "    future_years['RM'] = future_RM['RM'].values\n",
    "    \n",
    "    # Ensure 'Year' values are datetime objects\n",
    "    df['ds'] = pd.to_datetime(df['ds'].astype(str), format='%Y')\n",
    "    \n",
    "    future = pd.concat([df[['ds', 'RM']], future_years], ignore_index=True)\n",
    "    \n",
    "    forecast = model.predict(future)\n",
    "    return forecast\n",
    "\n",
    "\n",
    "# Forecast the next 5 years for each column\n",
    "predictions = {}\n",
    "for column in data.columns[2:]:\n",
    "    print(f\"Predicting {column}...\")\n",
    "    predictions[column] = train_and_predict(column)\n",
    "\n",
    "# Save predictions to CSV files\n",
    "for column, prediction in predictions.items():\n",
    "    prediction.to_csv(f\"{column}_predictions.csv\", index=False)\n"
   ]
  }
 ],
 "metadata": {
  "kernelspec": {
   "display_name": "playground",
   "language": "python",
   "name": "python3"
  },
  "language_info": {
   "codemirror_mode": {
    "name": "ipython",
    "version": 3
   },
   "file_extension": ".py",
   "mimetype": "text/x-python",
   "name": "python",
   "nbconvert_exporter": "python",
   "pygments_lexer": "ipython3",
   "version": "3.9.16"
  },
  "orig_nbformat": 4
 },
 "nbformat": 4,
 "nbformat_minor": 2
}
