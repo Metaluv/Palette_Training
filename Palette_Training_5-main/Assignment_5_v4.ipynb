{
 "cells": [
  {
   "cell_type": "code",
   "execution_count": 8,
   "metadata": {},
   "outputs": [],
   "source": [
    "import pandas as pd\n",
    "from sklearn.model_selection import train_test_split\n",
    "from sklearn.preprocessing import MinMaxScaler\n",
    "from sklearn.linear_model import LinearRegression\n",
    "from sklearn.linear_model import Ridge\n",
    "from sklearn.linear_model import Lasso\n",
    "from sklearn.svm import SVR\n",
    "from sklearn.model_selection import GridSearchCV\n"
   ]
  },
  {
   "cell_type": "code",
   "execution_count": 11,
   "metadata": {},
   "outputs": [],
   "source": [
    "# Load the data\n",
    "data = pd.read_csv('Palette_Training_5-main/rm_crop_yields_1938_2021.csv', encoding='utf-8')"
   ]
  },
  {
   "cell_type": "code",
   "execution_count": 12,
   "metadata": {},
   "outputs": [
    {
     "name": "stdout",
     "output_type": "stream",
     "text": [
      "Optimal parameters: {'alpha': 0.1}\n",
      "Best score: 0.7615436531601724\n"
     ]
    }
   ],
   "source": [
    "# Pre-process the data\n",
    "data.fillna(0, inplace = True)\n",
    "X = data.drop('Year', axis = 1).values\n",
    "y = data['Year'].values\n",
    "\n",
    "# Split the data into training and test sets\n",
    "X_train, X_test, y_train, y_test = train_test_split(X, y, test_size = 0.2, random_state = 42)\n",
    "\n",
    "# Standardize the data using minmax scaler\n",
    "scaler = MinMaxScaler()\n",
    "X_train = scaler.fit_transform(X_train)\n",
    "X_test = scaler.transform(X_test)\n",
    "\n",
    "# Train the model \n",
    "# We will use a Ridge Regression model\n",
    "model = Ridge()\n",
    "model.fit(X_train, y_train)\n",
    "\n",
    "# Test the model\n",
    "score = model.score(X_test, y_test)\n",
    "\n",
    "# Use grid search to find the optimal hyperparameters\n",
    "parameters = {'alpha': [0.001, 0.01, 0.1, 1, 10, 100, 1000]}\n",
    "grid_search = GridSearchCV(model, parameters, cv=5, scoring='r2')\n",
    "grid_search.fit(X_train, y_train)\n",
    "\n",
    "# Print the optimal parameters\n",
    "print('Optimal parameters: {}'.format(grid_search.best_params_))\n",
    "\n",
    "# Print the best score achieved\n",
    "print('Best score: {}'.format(grid_search.best_score_))"
   ]
  },
  {
   "cell_type": "code",
   "execution_count": 15,
   "metadata": {},
   "outputs": [
    {
     "name": "stdout",
     "output_type": "stream",
     "text": [
      "Score: 0.7659522654949908\n"
     ]
    }
   ],
   "source": [
    "# find the learning rate\n",
    "learning_rate = grid_search.best_params_['alpha']\n",
    "\n",
    "# Train the model with the optimal hyperparameters\n",
    "model = Ridge(alpha=learning_rate)\n",
    "model.fit(X_train, y_train)\n",
    "\n",
    "# Test the model\n",
    "score = model.score(X_test, y_test)\n",
    "\n",
    "# Print the score\n",
    "print('Score: {}'.format(score))"
   ]
  },
  {
   "cell_type": "code",
   "execution_count": 35,
   "metadata": {},
   "outputs": [],
   "source": [
    "import seaborn as sns\n",
    "import numpy as np\n",
    "import matplotlib.pyplot as plt\n",
    "from scipy import stats\n",
    "from scipy.stats import norm\n",
    "from scipy.special import boxcox1p\n",
    "import missingno as msno\n",
    "from sklearn.model_selection import cross_val_score, GridSearchCV, train_test_split\n",
    "from sklearn.linear_model import LinearRegression, Lasso, Ridge, ElasticNet\n",
    "from sklearn.ensemble import RandomForestRegressor\n",
    "from sklearn.metrics import mean_squared_error, mean_absolute_error, r2_score\n",
    "from sklearn.compose import make_column_transformer\n",
    "from sklearn.preprocessing import OneHotEncoder, StandardScaler, LabelEncoder\n",
    "from sklearn.pipeline import make_pipeline\n",
    "from sklearn.svm import SVR\n",
    "from xgboost import XGBRegressor\n",
    "\n",
    "\n",
    "import warnings\n",
    "warnings.filterwarnings('ignore')\n",
    "\n",
    "def ignore_warn(*args, **kwargs):\n",
    "    pass\n",
    "warnings.warn = ignore_warn \n",
    "\n",
    "pd.set_option(\"display.float_format\", lambda x: \"{:.3f}\".format(x)) #Limiting floats output to 3 decimal points\n",
    "pd.set_option(\"display.max_columns\", None)\n"
   ]
  },
  {
   "cell_type": "code",
   "execution_count": 29,
   "metadata": {},
   "outputs": [],
   "source": [
    "trainingset = data\n",
    "testset = pd.read_csv(\"Palette_Training_5-main/rm_crop_yields_1938_2021.csv\")\n",
    "o_submission = pd.read_csv(\"Palette_Training_5-main/submission.csv\")"
   ]
  },
  {
   "cell_type": "code",
   "execution_count": 30,
   "metadata": {},
   "outputs": [
    {
     "name": "stdout",
     "output_type": "stream",
     "text": [
      "(20013, 18)(20013,)(5004, 18)(5004,)\n"
     ]
    }
   ],
   "source": [
    "# Spliting Data\n",
    "#X = df4.drop([\"RM\"], axis=1)\n",
    "X = data\n",
    "#y = df4['RM']\n",
    "y = data['Canola']\n",
    "X_train, X_test, y_train, y_test = train_test_split(X, y, test_size=0.2, random_state=42)\n",
    "\n",
    "print(\"{}{}{}{}\".format(X_train.shape, y_train.shape, X_test.shape, y_test.shape))"
   ]
  },
  {
   "cell_type": "code",
   "execution_count": 31,
   "metadata": {},
   "outputs": [],
   "source": [
    "result = {}\n",
    "def evaluation(y, y_pred):\n",
    "    r_squared = r2_score(y, y_pred),\n",
    "    mae = mean_absolute_error(y, y_pred),\n",
    "    mse = mean_squared_error(y, y_pred),\n",
    "    rmse = np.sqrt(mean_squared_error(y, y_pred))\n",
    "    return r_squared, mae, mse, rmse"
   ]
  },
  {
   "cell_type": "code",
   "execution_count": 32,
   "metadata": {},
   "outputs": [],
   "source": [
    "low_cardinality_cols = [col for col in X_train.columns if (X_train[col].dtype==\"object\") & (X_train[col].nunique()<26)]\n",
    "#print(len(low_cardinality_cols), low_cardinality_cols)\n",
    "\n",
    "column_trans = make_column_transformer(\n",
    "    (OneHotEncoder(handle_unknown=\"ignore\", sparse=False),low_cardinality_cols),\n",
    "    remainder='passthrough'\n",
    ")\n",
    "sc = StandardScaler()"
   ]
  },
  {
   "cell_type": "code",
   "execution_count": 33,
   "metadata": {},
   "outputs": [],
   "source": [
    "test_X = data"
   ]
  },
  {
   "cell_type": "code",
   "execution_count": 36,
   "metadata": {},
   "outputs": [
    {
     "data": {
      "text/html": [
       "<div>\n",
       "<style scoped>\n",
       "    .dataframe tbody tr th:only-of-type {\n",
       "        vertical-align: middle;\n",
       "    }\n",
       "\n",
       "    .dataframe tbody tr th {\n",
       "        vertical-align: top;\n",
       "    }\n",
       "\n",
       "    .dataframe thead th {\n",
       "        text-align: right;\n",
       "    }\n",
       "</style>\n",
       "<table border=\"1\" class=\"dataframe\">\n",
       "  <thead>\n",
       "    <tr style=\"text-align: right;\">\n",
       "      <th></th>\n",
       "      <th>0</th>\n",
       "    </tr>\n",
       "  </thead>\n",
       "  <tbody>\n",
       "    <tr>\n",
       "      <th>count</th>\n",
       "      <td>25017.000</td>\n",
       "    </tr>\n",
       "    <tr>\n",
       "      <th>mean</th>\n",
       "      <td>4141408391530662068224.000</td>\n",
       "    </tr>\n",
       "    <tr>\n",
       "      <th>std</th>\n",
       "      <td>445880540783745723006976.000</td>\n",
       "    </tr>\n",
       "    <tr>\n",
       "      <th>min</th>\n",
       "      <td>1.002</td>\n",
       "    </tr>\n",
       "    <tr>\n",
       "      <th>25%</th>\n",
       "      <td>1.002</td>\n",
       "    </tr>\n",
       "    <tr>\n",
       "      <th>50%</th>\n",
       "      <td>1202101.213</td>\n",
       "    </tr>\n",
       "    <tr>\n",
       "      <th>75%</th>\n",
       "      <td>26457076660.561</td>\n",
       "    </tr>\n",
       "    <tr>\n",
       "      <th>max</th>\n",
       "      <td>68718406452092695866245120.000</td>\n",
       "    </tr>\n",
       "  </tbody>\n",
       "</table>\n",
       "</div>"
      ],
      "text/plain": [
       "                                   0\n",
       "count                      25017.000\n",
       "mean      4141408391530662068224.000\n",
       "std     445880540783745723006976.000\n",
       "min                            1.002\n",
       "25%                            1.002\n",
       "50%                      1202101.213\n",
       "75%                  26457076660.561\n",
       "max   68718406452092695866245120.000"
      ]
     },
     "execution_count": 36,
     "metadata": {},
     "output_type": "execute_result"
    }
   ],
   "source": [
    "model = Lasso(alpha=0.0014) \n",
    "pipe = make_pipeline(column_trans, sc, model) \n",
    "pipe.fit(X_train, y_train)\n",
    "predictions = pipe.predict(test_X)\n",
    "predictions = np.exp(predictions) #inverse logrithm on predicted SalePrice.\n",
    "pd.DataFrame(predictions.reshape(len(predictions),1)).describe()"
   ]
  },
  {
   "cell_type": "code",
   "execution_count": 38,
   "metadata": {},
   "outputs": [
    {
     "name": "stdout",
     "output_type": "stream",
     "text": [
      "{'lasso__alpha': 0.0009000000000000001} 0.99999998459504\n"
     ]
    }
   ],
   "source": [
    "model = Lasso() \n",
    "pipe = make_pipeline(column_trans, sc, model) \n",
    "params = {\"lasso__alpha\": np.arange(0.0008,0.002,0.0001)} #print(pipe.get_params().keys())\n",
    "cv_lasso = GridSearchCV(pipe, param_grid=params)\n",
    "cv_lasso.fit(X_train, y_train)\n",
    "preds_lasso = cv_lasso.predict(X_test)\n",
    "preds_lasso = np.exp(preds_lasso) #inverse logrithm on predicted SalePrice.\n",
    "lasso_r2, lasso_mae, lasso_mse, lasso_rmse = evaluation(y_test, preds_lasso) \n",
    "print(cv_lasso.best_params_, cv_lasso.best_score_)"
   ]
  },
  {
   "cell_type": "code",
   "execution_count": 39,
   "metadata": {},
   "outputs": [
    {
     "name": "stdout",
     "output_type": "stream",
     "text": [
      "{'ridge__alpha': 1} 0.999999982202449\n"
     ]
    }
   ],
   "source": [
    "model = Ridge() \n",
    "pipe = make_pipeline(column_trans, sc, model) \n",
    "params = {\"ridge__alpha\": np.arange(1,100,10)} #print(pipe.get_params().keys())\n",
    "cv_ridge = GridSearchCV(pipe, param_grid=params)\n",
    "cv_ridge.fit(X_train, y_train)\n",
    "preds_ridge = cv_ridge.predict(X_test)\n",
    "preds_ridge = np.exp(preds_ridge) #inverse logrithm on predicted SalePrice.\n",
    "print(cv_ridge.best_params_, cv_ridge.best_score_)"
   ]
  },
  {
   "cell_type": "code",
   "execution_count": 40,
   "metadata": {},
   "outputs": [
    {
     "name": "stdout",
     "output_type": "stream",
     "text": [
      "{'elasticnet__alpha': 0.0} 0.9999999167883262\n"
     ]
    }
   ],
   "source": [
    "model = ElasticNet()\n",
    "pipe = make_pipeline(column_trans, sc, model) \n",
    "#print(pipe.get_params().keys())\n",
    "params = {\"elasticnet__alpha\": np.arange(0,0.2,0.01)} \n",
    "cv_elastic = GridSearchCV(pipe, param_grid=params)\n",
    "cv_elastic.fit(X_train, y_train)\n",
    "preds_elastic = cv_elastic.predict(X_test)\n",
    "preds_elastic = np.exp(preds_elastic) #inverse logrithm on predicted SalePrice.\n",
    "print(cv_elastic.best_params_, cv_elastic.best_score_)"
   ]
  },
  {
   "cell_type": "code",
   "execution_count": 41,
   "metadata": {},
   "outputs": [
    {
     "name": "stdout",
     "output_type": "stream",
     "text": [
      "{'randomforestregressor__n_estimators': 50} 0.999996000583217\n"
     ]
    }
   ],
   "source": [
    "model = RandomForestRegressor()\n",
    "pipe = make_pipeline(column_trans, model) \n",
    "#print(pipe.get_params().keys())\n",
    "params = {\"randomforestregressor__n_estimators\": np.arange(50,150,50)} \n",
    "cv_rf = GridSearchCV(pipe, param_grid=params)\n",
    "cv_rf.fit(X_train, y_train)\n",
    "preds_rf = cv_rf.predict(X_test)\n",
    "preds_rf = np.exp(preds_rf) #inverse logrithm on predicted SalePrice.\n",
    "pd.DataFrame(preds_rf.reshape(len(preds_rf),1)).describe()\n",
    "print(cv_rf.best_params_, cv_rf.best_score_)"
   ]
  },
  {
   "cell_type": "code",
   "execution_count": 42,
   "metadata": {},
   "outputs": [
    {
     "name": "stdout",
     "output_type": "stream",
     "text": [
      "{'xgbregressor__learning_rate': 0.08, 'xgbregressor__n_estimators': 150} 0.9999950535196425\n"
     ]
    }
   ],
   "source": [
    "model = XGBRegressor()\n",
    "pipe = make_pipeline(column_trans, model) \n",
    "#print(pipe.get_params().keys())\n",
    "params = {\"xgbregressor__n_estimators\": np.arange(100,200,50), \"xgbregressor__learning_rate\": np.arange(0.08,0.12,0.01)} \n",
    "cv_xg = GridSearchCV(pipe, param_grid=params)\n",
    "cv_xg.fit(X_train, y_train)\n",
    "preds_xg = cv_xg.predict(X_test)\n",
    "preds_xg = np.exp(preds_xg) #inverse logrithm on predicted SalePrice.\n",
    "pd.DataFrame(preds_xg.reshape(len(preds_xg),1)).describe()\n",
    "print(cv_xg.best_params_, cv_xg.best_score_)"
   ]
  },
  {
   "cell_type": "code",
   "execution_count": 43,
   "metadata": {},
   "outputs": [
    {
     "name": "stdout",
     "output_type": "stream",
     "text": [
      "{'svr__C': 1.6000000000000005} 0.9876872796508376\n"
     ]
    }
   ],
   "source": [
    "model = SVR()\n",
    "pipe = make_pipeline(column_trans, sc, model) \n",
    "#print(pipe.get_params().keys())\n",
    "params = {\"svr__C\": np.arange(1,1.6,0.1)} \n",
    "cv_svr = GridSearchCV(pipe, param_grid=params)\n",
    "cv_svr.fit(X_train, y_train)\n",
    "preds_svr = cv_svr.predict(X_test)\n",
    "preds_svr = np.exp(preds_svr) #inverse logrithm on predicted SalePrice.\n",
    "print(cv_svr.best_params_, cv_svr.best_score_)"
   ]
  },
  {
   "cell_type": "code",
   "execution_count": 44,
   "metadata": {},
   "outputs": [
    {
     "name": "stdout",
     "output_type": "stream",
     "text": [
      "1.0\n"
     ]
    },
    {
     "data": {
      "text/html": [
       "<div>\n",
       "<style scoped>\n",
       "    .dataframe tbody tr th:only-of-type {\n",
       "        vertical-align: middle;\n",
       "    }\n",
       "\n",
       "    .dataframe tbody tr th {\n",
       "        vertical-align: top;\n",
       "    }\n",
       "\n",
       "    .dataframe thead th {\n",
       "        text-align: right;\n",
       "    }\n",
       "</style>\n",
       "<table border=\"1\" class=\"dataframe\">\n",
       "  <thead>\n",
       "    <tr style=\"text-align: right;\">\n",
       "      <th></th>\n",
       "      <th>0</th>\n",
       "    </tr>\n",
       "  </thead>\n",
       "  <tbody>\n",
       "    <tr>\n",
       "      <th>count</th>\n",
       "      <td>5004.000</td>\n",
       "    </tr>\n",
       "    <tr>\n",
       "      <th>mean</th>\n",
       "      <td>3962348670103959109632.000</td>\n",
       "    </tr>\n",
       "    <tr>\n",
       "      <th>std</th>\n",
       "      <td>208667291530582757998592.000</td>\n",
       "    </tr>\n",
       "    <tr>\n",
       "      <th>min</th>\n",
       "      <td>1.000</td>\n",
       "    </tr>\n",
       "    <tr>\n",
       "      <th>25%</th>\n",
       "      <td>1.000</td>\n",
       "    </tr>\n",
       "    <tr>\n",
       "      <th>50%</th>\n",
       "      <td>2676445.055</td>\n",
       "    </tr>\n",
       "    <tr>\n",
       "      <th>75%</th>\n",
       "      <td>32353886830.632</td>\n",
       "    </tr>\n",
       "    <tr>\n",
       "      <th>max</th>\n",
       "      <td>14410509519683117861830656.000</td>\n",
       "    </tr>\n",
       "  </tbody>\n",
       "</table>\n",
       "</div>"
      ],
      "text/plain": [
       "                                   0\n",
       "count                       5004.000\n",
       "mean      3962348670103959109632.000\n",
       "std     208667291530582757998592.000\n",
       "min                            1.000\n",
       "25%                            1.000\n",
       "50%                      2676445.055\n",
       "75%                  32353886830.632\n",
       "max   14410509519683117861830656.000"
      ]
     },
     "execution_count": 44,
     "metadata": {},
     "output_type": "execute_result"
    }
   ],
   "source": [
    "model = LinearRegression() \n",
    "pipe = make_pipeline(column_trans, model) \n",
    "pipe.fit(X_train, y_train)\n",
    "preds_lm = pipe.predict(X_test)\n",
    "preds_lm = np.exp(preds_lm) #inverse logrithm on predicted SalePrice.\n",
    "print(pipe.score(X_test, y_test))\n",
    "pd.DataFrame(preds_lm.reshape(len(preds_lm),1)).describe()"
   ]
  },
  {
   "cell_type": "code",
   "execution_count": 45,
   "metadata": {},
   "outputs": [],
   "source": [
    "lm_r2, lm_mae, lm_mse, lm_rmse = evaluation(np.exp(y_test), preds_lm) \n",
    "result[\"Liner\"] = [lm_r2, lm_mae, lm_mse, lm_rmse]\n",
    "\n",
    "lasso_r2, lasso_mae, lasso_mse, lasso_rmse = evaluation(np.exp(y_test), preds_lasso) \n",
    "result[\"Lasso\"] = [lasso_r2,lasso_mae, lasso_mse, lasso_rmse]\n",
    "\n",
    "ridge_r2, ridge_mae, ridge_mse, ridge_rmse = evaluation(np.exp(y_test), preds_ridge) \n",
    "result[\"Ridge\"] = [ridge_r2, ridge_mae, ridge_mse, ridge_rmse]\n",
    "\n",
    "elastic_r2, elastic_mae, elastic_mse, elastic_rmse = evaluation(np.exp(y_test), preds_elastic) \n",
    "result[\"Elastic\"] = [elastic_r2, elastic_mae, elastic_mse, elastic_rmse]\n",
    "\n",
    "svr_r2, svr_mae, svr_mse, svr_rmse = evaluation(np.exp(y_test), preds_svr) \n",
    "result[\"SVR\"] = [svr_r2, svr_mae, svr_mse, svr_rmse]\n",
    "\n",
    "rf_r2, rf_mae, rf_mse, rf_rmse = evaluation(np.exp(y_test), preds_rf) \n",
    "result[\"RandomForest\"] = [rf_r2, rf_mae, rf_mse, rf_rmse]\n",
    "\n",
    "xg_r2, xg_mae, xg_mse, xg_rmse = evaluation(np.exp(y_test), preds_rf) \n",
    "result[\"XGBoost\"] = [xg_r2, xg_mae, xg_mse, xg_rmse]"
   ]
  },
  {
   "cell_type": "code",
   "execution_count": 46,
   "metadata": {},
   "outputs": [
    {
     "data": {
      "text/html": [
       "<div>\n",
       "<style scoped>\n",
       "    .dataframe tbody tr th:only-of-type {\n",
       "        vertical-align: middle;\n",
       "    }\n",
       "\n",
       "    .dataframe tbody tr th {\n",
       "        vertical-align: top;\n",
       "    }\n",
       "\n",
       "    .dataframe thead th {\n",
       "        text-align: right;\n",
       "    }\n",
       "</style>\n",
       "<table border=\"1\" class=\"dataframe\">\n",
       "  <thead>\n",
       "    <tr style=\"text-align: right;\">\n",
       "      <th></th>\n",
       "      <th>R2 Score</th>\n",
       "      <th>MAE</th>\n",
       "      <th>MSE</th>\n",
       "      <th>RMSE</th>\n",
       "    </tr>\n",
       "  </thead>\n",
       "  <tbody>\n",
       "    <tr>\n",
       "      <th>Liner</th>\n",
       "      <td>(1.0,)</td>\n",
       "      <td>(226845821.42738327,)</td>\n",
       "      <td>(1.391514327129635e+20,)</td>\n",
       "      <td>11796246551.889</td>\n",
       "    </tr>\n",
       "    <tr>\n",
       "      <th>Elastic</th>\n",
       "      <td>(0.9999969852466739,)</td>\n",
       "      <td>(9.675578359544117e+18,)</td>\n",
       "      <td>(1.3124227284351197e+41,)</td>\n",
       "      <td>362273754008639111168.000</td>\n",
       "    </tr>\n",
       "    <tr>\n",
       "      <th>Ridge</th>\n",
       "      <td>(0.9999870512353529,)</td>\n",
       "      <td>(1.377073187599508e+19,)</td>\n",
       "      <td>(5.637029365129212e+41,)</td>\n",
       "      <td>750801529375720734720.000</td>\n",
       "    </tr>\n",
       "    <tr>\n",
       "      <th>Lasso</th>\n",
       "      <td>(0.9999750631018295,)</td>\n",
       "      <td>(1.850755879526165e+19,)</td>\n",
       "      <td>(1.0855863944859532e+42,)</td>\n",
       "      <td>1041914773139316408320.000</td>\n",
       "    </tr>\n",
       "    <tr>\n",
       "      <th>RandomForest</th>\n",
       "      <td>(0.3399245320805806,)</td>\n",
       "      <td>(2.9395850029364486e+21,)</td>\n",
       "      <td>(2.873528786174823e+46,)</td>\n",
       "      <td>169514860297698456633344.000</td>\n",
       "    </tr>\n",
       "    <tr>\n",
       "      <th>XGBoost</th>\n",
       "      <td>(0.3399245320805806,)</td>\n",
       "      <td>(2.9395850029364486e+21,)</td>\n",
       "      <td>(2.873528786174823e+46,)</td>\n",
       "      <td>169514860297698456633344.000</td>\n",
       "    </tr>\n",
       "    <tr>\n",
       "      <th>SVR</th>\n",
       "      <td>(0.0005339275655885656,)</td>\n",
       "      <td>(3.943207388121949e+21,)</td>\n",
       "      <td>(4.3510093459434225e+46,)</td>\n",
       "      <td>208590731959582108680192.000</td>\n",
       "    </tr>\n",
       "  </tbody>\n",
       "</table>\n",
       "</div>"
      ],
      "text/plain": [
       "                              R2 Score                        MAE  \\\n",
       "Liner                           (1.0,)      (226845821.42738327,)   \n",
       "Elastic          (0.9999969852466739,)   (9.675578359544117e+18,)   \n",
       "Ridge            (0.9999870512353529,)   (1.377073187599508e+19,)   \n",
       "Lasso            (0.9999750631018295,)   (1.850755879526165e+19,)   \n",
       "RandomForest     (0.3399245320805806,)  (2.9395850029364486e+21,)   \n",
       "XGBoost          (0.3399245320805806,)  (2.9395850029364486e+21,)   \n",
       "SVR           (0.0005339275655885656,)   (3.943207388121949e+21,)   \n",
       "\n",
       "                                    MSE                         RMSE  \n",
       "Liner          (1.391514327129635e+20,)              11796246551.889  \n",
       "Elastic       (1.3124227284351197e+41,)    362273754008639111168.000  \n",
       "Ridge          (5.637029365129212e+41,)    750801529375720734720.000  \n",
       "Lasso         (1.0855863944859532e+42,)   1041914773139316408320.000  \n",
       "RandomForest   (2.873528786174823e+46,) 169514860297698456633344.000  \n",
       "XGBoost        (2.873528786174823e+46,) 169514860297698456633344.000  \n",
       "SVR           (4.3510093459434225e+46,) 208590731959582108680192.000  "
      ]
     },
     "execution_count": 46,
     "metadata": {},
     "output_type": "execute_result"
    }
   ],
   "source": [
    "result = pd.DataFrame.from_dict(result, orient='index', columns=[\"R2 Score\",\"MAE\",\"MSE\",\"RMSE\"])\n",
    "result.sort_values(by=\"RMSE\")"
   ]
  },
  {
   "cell_type": "code",
   "execution_count": 47,
   "metadata": {},
   "outputs": [
    {
     "data": {
      "text/plain": [
       "<AxesSubplot:ylabel='RMSE'>"
      ]
     },
     "execution_count": 47,
     "metadata": {},
     "output_type": "execute_result"
    },
    {
     "data": {
      "image/png": "[encoded data removed]",
      "text/plain": [
       "<Figure size 640x480 with 1 Axes>"
      ]
     },
     "metadata": {},
     "output_type": "display_data"
    }
   ],
   "source": [
    "sns.barplot(result.index,result.RMSE)"
   ]
  },
  {
   "cell_type": "code",
   "execution_count": 48,
   "metadata": {},
   "outputs": [
    {
     "data": {
      "image/png": "[encoded data removed]",
      "text/plain": [
       "<Figure size 640x480 with 1 Axes>"
      ]
     },
     "metadata": {},
     "output_type": "display_data"
    }
   ],
   "source": [
    "from sklearn.model_selection import learning_curve\n",
    "# Use learning curve to get training and test scores along with train sizes\n",
    "train_sizes, train_scores, test_scores = learning_curve(\n",
    "    estimator=pipe, \n",
    "    X=X_train, \n",
    "    y=y_train,\n",
    "    train_sizes=np.linspace(0.1, 1.0, 10),\n",
    "    n_jobs=1,\n",
    "    cv=5\n",
    ")\n",
    "\n",
    "#\n",
    "# Calculate training and test mean and std\n",
    "#\n",
    "train_mean = np.mean(train_scores, axis=1)\n",
    "train_std = np.std(train_scores, axis=1)\n",
    "test_mean = np.mean(test_scores, axis=1)\n",
    "test_std = np.std(test_scores, axis=1)\n",
    "#\n",
    "# Plot the learning curve\n",
    "#\n",
    "plt.plot(train_sizes, train_mean, color='blue', marker='o', markersize=5, label='Training Accuracy')\n",
    "plt.fill_between(train_sizes, train_mean + train_std, train_mean - train_std, alpha=0.15, color='blue')\n",
    "plt.plot(train_sizes, test_mean, color='green', marker='+', markersize=5, linestyle='--', label='Validation Accuracy')\n",
    "plt.fill_between(train_sizes, test_mean + test_std, test_mean - test_std, alpha=0.15, color='green')\n",
    "plt.title('Learning Curve')\n",
    "plt.xlabel('Training Data Size')\n",
    "plt.ylabel('Accuracy')\n",
    "plt.grid()\n",
    "plt.legend(loc='lower right')\n",
    "plt.show()"
   ]
  },
  {
   "cell_type": "code",
   "execution_count": null,
   "metadata": {},
   "outputs": [],
   "source": [
    "# Save the model\n",
    "import pickle\n",
    "pickle.dump(model, open('model.pkl', 'wb'))\n",
    "\n",
    "# Save the scaler\n",
    "pickle.dump(scaler, open('scaler.pkl', 'wb'))\n",
    "\n",
    "# Save the score\n",
    "pickle.dump(score, open('score.pkl', 'wb'))\n",
    "\n",
    "# Save the learning rate\n",
    "pickle.dump(learning_rate, open('learning_rate.pkl', 'wb'))\n",
    "\n",
    "# Save the columns\n",
    "pickle.dump(data.drop('Year', axis = 1).columns, open('columns.pkl', 'wb'))\n",
    "\n",
    "# Save the year\n",
    "pickle.dump(data['Year'].values, open('year.pkl', 'wb'))\n",
    "\n",
    "# Save the data\n",
    "pickle.dump(data, open('data.pkl', 'wb'))"
   ]
  }
 ],
 "metadata": {
  "kernelspec": {
   "display_name": "base",
   "language": "python",
   "name": "python3"
  },
  "language_info": {
   "codemirror_mode": {
    "name": "ipython",
    "version": 3
   },
   "file_extension": ".py",
   "mimetype": "text/x-python",
   "name": "python",
   "nbconvert_exporter": "python",
   "pygments_lexer": "ipython3",
   "version": "3.9.13"
  },
  "orig_nbformat": 4,
  "vscode": {
   "interpreter": {
    "hash": "5e820f3ddc028a719ffe50e7d80dd01658ce1fe998d4f6f388d9b09d11d3d164"
   }
  }
 },
 "nbformat": 4,
 "nbformat_minor": 2
}
