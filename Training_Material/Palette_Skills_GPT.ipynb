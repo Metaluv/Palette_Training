{
 "cells": [
  {
   "attachments": {},
   "cell_type": "markdown",
   "metadata": {},
   "source": [
    "MAKE SURE BASE IS ON"
   ]
  },
  {
   "cell_type": "code",
   "execution_count": 4,
   "metadata": {},
   "outputs": [],
   "source": [
    "import os\n",
    "import openai\n",
    "import pandas as pd\n",
    "import numpy as np\n",
    "from dotenv import load_dotenv\n",
    "import json\n",
    "import datetime\n",
    "\n",
    "load_dotenv()\n",
    "openai.api_key = os.getenv(\"OPENAI_API_KEY\")\n",
    "openai.organization = os.getenv(\"OPENAI_ORG\")"
   ]
  },
  {
   "cell_type": "code",
   "execution_count": 11,
   "metadata": {},
   "outputs": [],
   "source": [
    "prompt = 'As a professional python programmer make the suggested changes for the following code snippet to make it more efficient and properly working. The code snippet is as follows:'"
   ]
  },
  {
   "cell_type": "code",
   "execution_count": 12,
   "metadata": {},
   "outputs": [
    {
     "name": "stdout",
     "output_type": "stream",
     "text": [
      "\n",
      "# Suggested Changes\n",
      "\n",
      "import pandas as pd\n",
      "from sklearn.cluster import KMeans\n",
      "import matplotlib.pyplot as plt\n",
      "df=df_ms.copy()\n",
      "\n",
      "# Define the features to be used for clustering\n",
      "X = df[['WinterWheat_mean', 'Canola_mean', 'SpringWheat_mean',\n",
      "       'Mustard_mean', 'Durum_mean', 'Sunflowers_mean', 'Oats_mean',\n",
      "       'Lentils_mean', 'Peas_mean', 'Barley_mean', 'FallRye_mean',\n",
      "       'CanarySeed_mean', 'SpringRye_mean', 'TameHay_mean', 'Flax_mean',\n",
      "       'Chickpeas_mean', 'WinterWheat_std', 'Canola_std', 'SpringWheat_std',\n",
      "       'Mustard_std', 'Durum_std', 'Sunflowers_std', 'Oats_std', 'Lentils_std',\n",
      "       'Peas_std', 'Barley_std', 'FallRye_std', 'CanarySeed_std',\n",
      "       'SpringRye_std', 'TameHay_std', 'Flax_std', 'Chickpeas_std']]\n",
      "\n",
      "# Normalize the features\n",
      "from sklearn.preprocessing import MinMaxScaler\n",
      "scaler = MinMaxScaler().fit(X)\n",
      "X = scaler.transform(X)\n",
      "\n",
      "# Elbow method to determine the optimal number of clusters\n",
      "sse = []\n",
      "for k in range(1, 11):\n",
      "    kmeans = KMeans(n_clusters=k)\n",
      "    kmeans.fit(X)\n",
      "    sse.append(kmeans.inertia_)\n",
      "\n",
      "# Plot the elbow graph\n",
      "plt.plot(range(1, 11), sse)\n",
      "plt.xlabel('Number of Clusters')\n",
      "plt.ylabel('Sum of Squared Distances')\n",
      "plt.show()\n",
      "\n",
      "# Fit the KMeans model with the optimal number of clusters\n",
      "kmeans = KMeans(n_clusters=4)\n",
      "kmeans.fit(X)\n",
      "\n",
      "# Predict the cluster labels for each data point\n",
      "labels = kmeans.predict(X)\n",
      "\n",
      "# Plot the data points and cluster centers\n",
      "plt.scatter(X[:, 0], X[:, 16], c=labels)\n",
      "plt.scatter(kmeans.cluster_centers_[:, 0], kmeans.cluster_centers_[:, 16], marker='x', s=200, linewidths=3, color='r')\n",
      "plt.xlabel('Canola_mean')\n",
      "plt.ylabel('Canola_std')\n",
      "plt.show()\n"
     ]
    }
   ],
   "source": [
    "\n",
    "# Read the subjects from the input file\n",
    "with open('input.txt', 'r') as file:\n",
    "    subjects = file.read()\n",
    "\n",
    "# Call the OpenAI API\n",
    "response = openai.Completion.create(\n",
    "    model=\"text-davinci-003\", \n",
    "    prompt=f\"{prompt}+{subjects}\",\n",
    "    max_tokens=3000,\n",
    "    n=1, \n",
    "    stop=None, \n",
    "    temperature=0.9\n",
    ")\n",
    "\n",
    "response_json = response.to_dict()\n",
    "response_text = response_json['choices'][0]['text']\n",
    "# Get the current time\n",
    "now = datetime.datetime.now().strftime(\"%Y-%m-%d-%H-%M-%S\")\n",
    "\n",
    "# Save the response text to a file\n",
    "with open(f\"ag_tech_{now}.txt\", \"w\") as f:\n",
    "    f.write(response_text)\n",
    "\n",
    "print(response_text)"
   ]
  }
 ],
 "metadata": {
  "kernelspec": {
   "display_name": "base",
   "language": "python",
   "name": "python3"
  },
  "language_info": {
   "codemirror_mode": {
    "name": "ipython",
    "version": 3
   },
   "file_extension": ".py",
   "mimetype": "text/x-python",
   "name": "python",
   "nbconvert_exporter": "python",
   "pygments_lexer": "ipython3",
   "version": "3.9.13"
  },
  "orig_nbformat": 4,
  "vscode": {
   "interpreter": {
    "hash": "5e820f3ddc028a719ffe50e7d80dd01658ce1fe998d4f6f388d9b09d11d3d164"
   }
  }
 },
 "nbformat": 4,
 "nbformat_minor": 2
}
